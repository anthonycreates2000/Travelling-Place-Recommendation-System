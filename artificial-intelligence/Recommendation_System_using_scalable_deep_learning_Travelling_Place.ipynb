{
  "nbformat": 4,
  "nbformat_minor": 0,
  "metadata": {
    "colab": {
      "provenance": []
    },
    "kernelspec": {
      "name": "python3",
      "display_name": "Python 3"
    },
    "language_info": {
      "name": "python"
    }
  },
  "cells": [
    {
      "cell_type": "markdown",
      "source": [
        "# Recommendation System from the paper: An Efficient Deep Learning Approach for Collaborative Filtering Recommender System\n",
        "\n"
      ],
      "metadata": {
        "id": "cJvznglScsE2"
      }
    },
    {
      "cell_type": "code",
      "execution_count": null,
      "metadata": {
        "id": "fkNdL1uBcetw"
      },
      "outputs": [],
      "source": [
        "import numpy as np\n",
        "import pandas as pd\n",
        "import matplotlib.pyplot as plt\n",
        "import os\n",
        "import warnings\n",
        "import tensorflow as tf\n",
        "from keras.layers import Input, Embedding, Flatten, Dot, Dense, Concatenate, BatchNormalization\n",
        "from keras.models import Model\n",
        "from keras import backend as K"
      ]
    },
    {
      "cell_type": "code",
      "source": [
        "from google.colab import files\n",
        "\n",
        "print(\"Please upload your kaggle.json file.\")\n",
        "uploaded = files.upload()\n",
        "\n",
        "for fn in uploaded.keys():\n",
        "  print('User uploaded file \"{name}\" with length {length} bytes'.format(\n",
        "      name=fn, length=len(uploaded[fn])))"
      ],
      "metadata": {
        "colab": {
          "base_uri": "https://localhost:8080/",
          "height": 106
        },
        "id": "4vLqY1ni124W",
        "outputId": "cf5cc329-a0b5-4694-a408-6fd26256925e"
      },
      "execution_count": null,
      "outputs": [
        {
          "output_type": "stream",
          "name": "stdout",
          "text": [
            "Please upload your kaggle.json file.\n"
          ]
        },
        {
          "output_type": "display_data",
          "data": {
            "text/plain": [
              "<IPython.core.display.HTML object>"
            ],
            "text/html": [
              "\n",
              "     <input type=\"file\" id=\"files-494881c8-f600-48f0-b20d-388739566cc3\" name=\"files[]\" multiple disabled\n",
              "        style=\"border:none\" />\n",
              "     <output id=\"result-494881c8-f600-48f0-b20d-388739566cc3\">\n",
              "      Upload widget is only available when the cell has been executed in the\n",
              "      current browser session. Please rerun this cell to enable.\n",
              "      </output>\n",
              "      <script>// Copyright 2017 Google LLC\n",
              "//\n",
              "// Licensed under the Apache License, Version 2.0 (the \"License\");\n",
              "// you may not use this file except in compliance with the License.\n",
              "// You may obtain a copy of the License at\n",
              "//\n",
              "//      http://www.apache.org/licenses/LICENSE-2.0\n",
              "//\n",
              "// Unless required by applicable law or agreed to in writing, software\n",
              "// distributed under the License is distributed on an \"AS IS\" BASIS,\n",
              "// WITHOUT WARRANTIES OR CONDITIONS OF ANY KIND, either express or implied.\n",
              "// See the License for the specific language governing permissions and\n",
              "// limitations under the License.\n",
              "\n",
              "/**\n",
              " * @fileoverview Helpers for google.colab Python module.\n",
              " */\n",
              "(function(scope) {\n",
              "function span(text, styleAttributes = {}) {\n",
              "  const element = document.createElement('span');\n",
              "  element.textContent = text;\n",
              "  for (const key of Object.keys(styleAttributes)) {\n",
              "    element.style[key] = styleAttributes[key];\n",
              "  }\n",
              "  return element;\n",
              "}\n",
              "\n",
              "// Max number of bytes which will be uploaded at a time.\n",
              "const MAX_PAYLOAD_SIZE = 100 * 1024;\n",
              "\n",
              "function _uploadFiles(inputId, outputId) {\n",
              "  const steps = uploadFilesStep(inputId, outputId);\n",
              "  const outputElement = document.getElementById(outputId);\n",
              "  // Cache steps on the outputElement to make it available for the next call\n",
              "  // to uploadFilesContinue from Python.\n",
              "  outputElement.steps = steps;\n",
              "\n",
              "  return _uploadFilesContinue(outputId);\n",
              "}\n",
              "\n",
              "// This is roughly an async generator (not supported in the browser yet),\n",
              "// where there are multiple asynchronous steps and the Python side is going\n",
              "// to poll for completion of each step.\n",
              "// This uses a Promise to block the python side on completion of each step,\n",
              "// then passes the result of the previous step as the input to the next step.\n",
              "function _uploadFilesContinue(outputId) {\n",
              "  const outputElement = document.getElementById(outputId);\n",
              "  const steps = outputElement.steps;\n",
              "\n",
              "  const next = steps.next(outputElement.lastPromiseValue);\n",
              "  return Promise.resolve(next.value.promise).then((value) => {\n",
              "    // Cache the last promise value to make it available to the next\n",
              "    // step of the generator.\n",
              "    outputElement.lastPromiseValue = value;\n",
              "    return next.value.response;\n",
              "  });\n",
              "}\n",
              "\n",
              "/**\n",
              " * Generator function which is called between each async step of the upload\n",
              " * process.\n",
              " * @param {string} inputId Element ID of the input file picker element.\n",
              " * @param {string} outputId Element ID of the output display.\n",
              " * @return {!Iterable<!Object>} Iterable of next steps.\n",
              " */\n",
              "function* uploadFilesStep(inputId, outputId) {\n",
              "  const inputElement = document.getElementById(inputId);\n",
              "  inputElement.disabled = false;\n",
              "\n",
              "  const outputElement = document.getElementById(outputId);\n",
              "  outputElement.innerHTML = '';\n",
              "\n",
              "  const pickedPromise = new Promise((resolve) => {\n",
              "    inputElement.addEventListener('change', (e) => {\n",
              "      resolve(e.target.files);\n",
              "    });\n",
              "  });\n",
              "\n",
              "  const cancel = document.createElement('button');\n",
              "  inputElement.parentElement.appendChild(cancel);\n",
              "  cancel.textContent = 'Cancel upload';\n",
              "  const cancelPromise = new Promise((resolve) => {\n",
              "    cancel.onclick = () => {\n",
              "      resolve(null);\n",
              "    };\n",
              "  });\n",
              "\n",
              "  // Wait for the user to pick the files.\n",
              "  const files = yield {\n",
              "    promise: Promise.race([pickedPromise, cancelPromise]),\n",
              "    response: {\n",
              "      action: 'starting',\n",
              "    }\n",
              "  };\n",
              "\n",
              "  cancel.remove();\n",
              "\n",
              "  // Disable the input element since further picks are not allowed.\n",
              "  inputElement.disabled = true;\n",
              "\n",
              "  if (!files) {\n",
              "    return {\n",
              "      response: {\n",
              "        action: 'complete',\n",
              "      }\n",
              "    };\n",
              "  }\n",
              "\n",
              "  for (const file of files) {\n",
              "    const li = document.createElement('li');\n",
              "    li.append(span(file.name, {fontWeight: 'bold'}));\n",
              "    li.append(span(\n",
              "        `(${file.type || 'n/a'}) - ${file.size} bytes, ` +\n",
              "        `last modified: ${\n",
              "            file.lastModifiedDate ? file.lastModifiedDate.toLocaleDateString() :\n",
              "                                    'n/a'} - `));\n",
              "    const percent = span('0% done');\n",
              "    li.appendChild(percent);\n",
              "\n",
              "    outputElement.appendChild(li);\n",
              "\n",
              "    const fileDataPromise = new Promise((resolve) => {\n",
              "      const reader = new FileReader();\n",
              "      reader.onload = (e) => {\n",
              "        resolve(e.target.result);\n",
              "      };\n",
              "      reader.readAsArrayBuffer(file);\n",
              "    });\n",
              "    // Wait for the data to be ready.\n",
              "    let fileData = yield {\n",
              "      promise: fileDataPromise,\n",
              "      response: {\n",
              "        action: 'continue',\n",
              "      }\n",
              "    };\n",
              "\n",
              "    // Use a chunked sending to avoid message size limits. See b/62115660.\n",
              "    let position = 0;\n",
              "    do {\n",
              "      const length = Math.min(fileData.byteLength - position, MAX_PAYLOAD_SIZE);\n",
              "      const chunk = new Uint8Array(fileData, position, length);\n",
              "      position += length;\n",
              "\n",
              "      const base64 = btoa(String.fromCharCode.apply(null, chunk));\n",
              "      yield {\n",
              "        response: {\n",
              "          action: 'append',\n",
              "          file: file.name,\n",
              "          data: base64,\n",
              "        },\n",
              "      };\n",
              "\n",
              "      let percentDone = fileData.byteLength === 0 ?\n",
              "          100 :\n",
              "          Math.round((position / fileData.byteLength) * 100);\n",
              "      percent.textContent = `${percentDone}% done`;\n",
              "\n",
              "    } while (position < fileData.byteLength);\n",
              "  }\n",
              "\n",
              "  // All done.\n",
              "  yield {\n",
              "    response: {\n",
              "      action: 'complete',\n",
              "    }\n",
              "  };\n",
              "}\n",
              "\n",
              "scope.google = scope.google || {};\n",
              "scope.google.colab = scope.google.colab || {};\n",
              "scope.google.colab._files = {\n",
              "  _uploadFiles,\n",
              "  _uploadFilesContinue,\n",
              "};\n",
              "})(self);\n",
              "</script> "
            ]
          },
          "metadata": {}
        },
        {
          "output_type": "stream",
          "name": "stdout",
          "text": [
            "Saving kaggle.json to kaggle.json\n",
            "User uploaded file \"kaggle.json\" with length 71 bytes\n"
          ]
        }
      ]
    },
    {
      "cell_type": "code",
      "source": [
        "! cp ./kaggle.json ~/.kaggle/\n",
        "! kaggle datasets download -d aprabowo/indonesia-tourism-destination\n",
        "! unzip indonesia-tourism-destination.zip"
      ],
      "metadata": {
        "colab": {
          "base_uri": "https://localhost:8080/"
        },
        "id": "XQeE2agy14j4",
        "outputId": "fe5a66aa-732a-41f1-dc7c-3b2103b4986c"
      },
      "execution_count": null,
      "outputs": [
        {
          "output_type": "stream",
          "name": "stdout",
          "text": [
            "Warning: Your Kaggle API key is readable by other users on this system! To fix this, you can run 'chmod 600 /root/.kaggle/kaggle.json'\n",
            "Downloading indonesia-tourism-destination.zip to /content\n",
            "  0% 0.00/158k [00:00<?, ?B/s]\n",
            "100% 158k/158k [00:00<00:00, 28.6MB/s]\n",
            "Archive:  indonesia-tourism-destination.zip\n",
            "  inflating: package_tourism.csv     \n",
            "  inflating: tourism_rating.csv      \n",
            "  inflating: tourism_with_id.csv     \n",
            "  inflating: user.csv                \n"
          ]
        }
      ]
    },
    {
      "cell_type": "code",
      "source": [
        "tourism_df = pd.read_csv(\"./tourism_with_id.csv\")\n",
        "rating_df = pd.read_csv(\"./tourism_rating.csv\")"
      ],
      "metadata": {
        "id": "fUxie8Sq180U"
      },
      "execution_count": null,
      "outputs": []
    },
    {
      "cell_type": "code",
      "source": [
        "tourism_df.tail()"
      ],
      "metadata": {
        "colab": {
          "base_uri": "https://localhost:8080/",
          "height": 372
        },
        "id": "k5wDfWPh7eX0",
        "outputId": "665aacf4-70f7-4f8f-b03e-5334fb941818"
      },
      "execution_count": null,
      "outputs": [
        {
          "output_type": "execute_result",
          "data": {
            "text/plain": [
              "     Place_Id                                 Place_Name  \\\n",
              "432       433                        Museum Mpu Tantular   \n",
              "433       434                              Taman Bungkul   \n",
              "434       435           Taman Air Mancur Menari Kenjeran   \n",
              "435       436               Taman Flora Bratang Surabaya   \n",
              "436       437  Gereja Perawan Maria Tak Berdosa Surabaya   \n",
              "\n",
              "                                           Description       Category  \\\n",
              "432  Museum Negeri Mpu Tantular adalah sebuah museu...         Budaya   \n",
              "433  Taman Bungkul adalah taman wisata kota yang te...  Taman Hiburan   \n",
              "434  Air mancur menari atau dancing fountain juga a...  Taman Hiburan   \n",
              "435  Taman Flora adalah salah satu taman kota di Su...  Taman Hiburan   \n",
              "436  Gereja Katolik Kelahiran Santa Perawan Maria m...  Tempat Ibadah   \n",
              "\n",
              "         City  Price  Rating  Time_Minutes  \\\n",
              "432  Surabaya   2000     4.4          45.0   \n",
              "433  Surabaya      0     4.6           NaN   \n",
              "434  Surabaya      0     4.4          45.0   \n",
              "435  Surabaya      0     4.6           NaN   \n",
              "436  Surabaya  10000     4.8           NaN   \n",
              "\n",
              "                                          Coordinate       Lat        Long  \\\n",
              "432          {'lat': -7.4338593, 'lng': 112.7199058} -7.433859  112.719906   \n",
              "433  {'lat': -7.291346799999999, 'lng': 112.7398218} -7.291347  112.739822   \n",
              "434          {'lat': -7.2752955, 'lng': 112.7549381} -7.275296  112.754938   \n",
              "435  {'lat': -7.294330299999999, 'lng': 112.7617534} -7.294330  112.761753   \n",
              "436          {'lat': -7.2420758, 'lng': 112.7368158} -7.242076  112.736816   \n",
              "\n",
              "     Unnamed: 11  Unnamed: 12  \n",
              "432          NaN          433  \n",
              "433          NaN          434  \n",
              "434          NaN          435  \n",
              "435          NaN          436  \n",
              "436          NaN          437  "
            ],
            "text/html": [
              "\n",
              "  <div id=\"df-38c059de-f065-4b83-a5d5-419dba464e34\">\n",
              "    <div class=\"colab-df-container\">\n",
              "      <div>\n",
              "<style scoped>\n",
              "    .dataframe tbody tr th:only-of-type {\n",
              "        vertical-align: middle;\n",
              "    }\n",
              "\n",
              "    .dataframe tbody tr th {\n",
              "        vertical-align: top;\n",
              "    }\n",
              "\n",
              "    .dataframe thead th {\n",
              "        text-align: right;\n",
              "    }\n",
              "</style>\n",
              "<table border=\"1\" class=\"dataframe\">\n",
              "  <thead>\n",
              "    <tr style=\"text-align: right;\">\n",
              "      <th></th>\n",
              "      <th>Place_Id</th>\n",
              "      <th>Place_Name</th>\n",
              "      <th>Description</th>\n",
              "      <th>Category</th>\n",
              "      <th>City</th>\n",
              "      <th>Price</th>\n",
              "      <th>Rating</th>\n",
              "      <th>Time_Minutes</th>\n",
              "      <th>Coordinate</th>\n",
              "      <th>Lat</th>\n",
              "      <th>Long</th>\n",
              "      <th>Unnamed: 11</th>\n",
              "      <th>Unnamed: 12</th>\n",
              "    </tr>\n",
              "  </thead>\n",
              "  <tbody>\n",
              "    <tr>\n",
              "      <th>432</th>\n",
              "      <td>433</td>\n",
              "      <td>Museum Mpu Tantular</td>\n",
              "      <td>Museum Negeri Mpu Tantular adalah sebuah museu...</td>\n",
              "      <td>Budaya</td>\n",
              "      <td>Surabaya</td>\n",
              "      <td>2000</td>\n",
              "      <td>4.4</td>\n",
              "      <td>45.0</td>\n",
              "      <td>{'lat': -7.4338593, 'lng': 112.7199058}</td>\n",
              "      <td>-7.433859</td>\n",
              "      <td>112.719906</td>\n",
              "      <td>NaN</td>\n",
              "      <td>433</td>\n",
              "    </tr>\n",
              "    <tr>\n",
              "      <th>433</th>\n",
              "      <td>434</td>\n",
              "      <td>Taman Bungkul</td>\n",
              "      <td>Taman Bungkul adalah taman wisata kota yang te...</td>\n",
              "      <td>Taman Hiburan</td>\n",
              "      <td>Surabaya</td>\n",
              "      <td>0</td>\n",
              "      <td>4.6</td>\n",
              "      <td>NaN</td>\n",
              "      <td>{'lat': -7.291346799999999, 'lng': 112.7398218}</td>\n",
              "      <td>-7.291347</td>\n",
              "      <td>112.739822</td>\n",
              "      <td>NaN</td>\n",
              "      <td>434</td>\n",
              "    </tr>\n",
              "    <tr>\n",
              "      <th>434</th>\n",
              "      <td>435</td>\n",
              "      <td>Taman Air Mancur Menari Kenjeran</td>\n",
              "      <td>Air mancur menari atau dancing fountain juga a...</td>\n",
              "      <td>Taman Hiburan</td>\n",
              "      <td>Surabaya</td>\n",
              "      <td>0</td>\n",
              "      <td>4.4</td>\n",
              "      <td>45.0</td>\n",
              "      <td>{'lat': -7.2752955, 'lng': 112.7549381}</td>\n",
              "      <td>-7.275296</td>\n",
              "      <td>112.754938</td>\n",
              "      <td>NaN</td>\n",
              "      <td>435</td>\n",
              "    </tr>\n",
              "    <tr>\n",
              "      <th>435</th>\n",
              "      <td>436</td>\n",
              "      <td>Taman Flora Bratang Surabaya</td>\n",
              "      <td>Taman Flora adalah salah satu taman kota di Su...</td>\n",
              "      <td>Taman Hiburan</td>\n",
              "      <td>Surabaya</td>\n",
              "      <td>0</td>\n",
              "      <td>4.6</td>\n",
              "      <td>NaN</td>\n",
              "      <td>{'lat': -7.294330299999999, 'lng': 112.7617534}</td>\n",
              "      <td>-7.294330</td>\n",
              "      <td>112.761753</td>\n",
              "      <td>NaN</td>\n",
              "      <td>436</td>\n",
              "    </tr>\n",
              "    <tr>\n",
              "      <th>436</th>\n",
              "      <td>437</td>\n",
              "      <td>Gereja Perawan Maria Tak Berdosa Surabaya</td>\n",
              "      <td>Gereja Katolik Kelahiran Santa Perawan Maria m...</td>\n",
              "      <td>Tempat Ibadah</td>\n",
              "      <td>Surabaya</td>\n",
              "      <td>10000</td>\n",
              "      <td>4.8</td>\n",
              "      <td>NaN</td>\n",
              "      <td>{'lat': -7.2420758, 'lng': 112.7368158}</td>\n",
              "      <td>-7.242076</td>\n",
              "      <td>112.736816</td>\n",
              "      <td>NaN</td>\n",
              "      <td>437</td>\n",
              "    </tr>\n",
              "  </tbody>\n",
              "</table>\n",
              "</div>\n",
              "      <button class=\"colab-df-convert\" onclick=\"convertToInteractive('df-38c059de-f065-4b83-a5d5-419dba464e34')\"\n",
              "              title=\"Convert this dataframe to an interactive table.\"\n",
              "              style=\"display:none;\">\n",
              "        \n",
              "  <svg xmlns=\"http://www.w3.org/2000/svg\" height=\"24px\"viewBox=\"0 0 24 24\"\n",
              "       width=\"24px\">\n",
              "    <path d=\"M0 0h24v24H0V0z\" fill=\"none\"/>\n",
              "    <path d=\"M18.56 5.44l.94 2.06.94-2.06 2.06-.94-2.06-.94-.94-2.06-.94 2.06-2.06.94zm-11 1L8.5 8.5l.94-2.06 2.06-.94-2.06-.94L8.5 2.5l-.94 2.06-2.06.94zm10 10l.94 2.06.94-2.06 2.06-.94-2.06-.94-.94-2.06-.94 2.06-2.06.94z\"/><path d=\"M17.41 7.96l-1.37-1.37c-.4-.4-.92-.59-1.43-.59-.52 0-1.04.2-1.43.59L10.3 9.45l-7.72 7.72c-.78.78-.78 2.05 0 2.83L4 21.41c.39.39.9.59 1.41.59.51 0 1.02-.2 1.41-.59l7.78-7.78 2.81-2.81c.8-.78.8-2.07 0-2.86zM5.41 20L4 18.59l7.72-7.72 1.47 1.35L5.41 20z\"/>\n",
              "  </svg>\n",
              "      </button>\n",
              "      \n",
              "  <style>\n",
              "    .colab-df-container {\n",
              "      display:flex;\n",
              "      flex-wrap:wrap;\n",
              "      gap: 12px;\n",
              "    }\n",
              "\n",
              "    .colab-df-convert {\n",
              "      background-color: #E8F0FE;\n",
              "      border: none;\n",
              "      border-radius: 50%;\n",
              "      cursor: pointer;\n",
              "      display: none;\n",
              "      fill: #1967D2;\n",
              "      height: 32px;\n",
              "      padding: 0 0 0 0;\n",
              "      width: 32px;\n",
              "    }\n",
              "\n",
              "    .colab-df-convert:hover {\n",
              "      background-color: #E2EBFA;\n",
              "      box-shadow: 0px 1px 2px rgba(60, 64, 67, 0.3), 0px 1px 3px 1px rgba(60, 64, 67, 0.15);\n",
              "      fill: #174EA6;\n",
              "    }\n",
              "\n",
              "    [theme=dark] .colab-df-convert {\n",
              "      background-color: #3B4455;\n",
              "      fill: #D2E3FC;\n",
              "    }\n",
              "\n",
              "    [theme=dark] .colab-df-convert:hover {\n",
              "      background-color: #434B5C;\n",
              "      box-shadow: 0px 1px 3px 1px rgba(0, 0, 0, 0.15);\n",
              "      filter: drop-shadow(0px 1px 2px rgba(0, 0, 0, 0.3));\n",
              "      fill: #FFFFFF;\n",
              "    }\n",
              "  </style>\n",
              "\n",
              "      <script>\n",
              "        const buttonEl =\n",
              "          document.querySelector('#df-38c059de-f065-4b83-a5d5-419dba464e34 button.colab-df-convert');\n",
              "        buttonEl.style.display =\n",
              "          google.colab.kernel.accessAllowed ? 'block' : 'none';\n",
              "\n",
              "        async function convertToInteractive(key) {\n",
              "          const element = document.querySelector('#df-38c059de-f065-4b83-a5d5-419dba464e34');\n",
              "          const dataTable =\n",
              "            await google.colab.kernel.invokeFunction('convertToInteractive',\n",
              "                                                     [key], {});\n",
              "          if (!dataTable) return;\n",
              "\n",
              "          const docLinkHtml = 'Like what you see? Visit the ' +\n",
              "            '<a target=\"_blank\" href=https://colab.research.google.com/notebooks/data_table.ipynb>data table notebook</a>'\n",
              "            + ' to learn more about interactive tables.';\n",
              "          element.innerHTML = '';\n",
              "          dataTable['output_type'] = 'display_data';\n",
              "          await google.colab.output.renderOutput(dataTable, element);\n",
              "          const docLink = document.createElement('div');\n",
              "          docLink.innerHTML = docLinkHtml;\n",
              "          element.appendChild(docLink);\n",
              "        }\n",
              "      </script>\n",
              "    </div>\n",
              "  </div>\n",
              "  "
            ]
          },
          "metadata": {},
          "execution_count": 6
        }
      ]
    },
    {
      "cell_type": "code",
      "source": [
        "rating_df.tail()"
      ],
      "metadata": {
        "colab": {
          "base_uri": "https://localhost:8080/",
          "height": 206
        },
        "id": "37dyc2J919zE",
        "outputId": "62dafaed-1ec2-49f9-d42b-75329e8d367c"
      },
      "execution_count": null,
      "outputs": [
        {
          "output_type": "execute_result",
          "data": {
            "text/plain": [
              "      User_Id  Place_Id  Place_Ratings\n",
              "9995      300       425              2\n",
              "9996      300        64              4\n",
              "9997      300       311              3\n",
              "9998      300       279              4\n",
              "9999      300       163              2"
            ],
            "text/html": [
              "\n",
              "  <div id=\"df-8c774003-e3d5-451a-b12c-f302a79fda7c\">\n",
              "    <div class=\"colab-df-container\">\n",
              "      <div>\n",
              "<style scoped>\n",
              "    .dataframe tbody tr th:only-of-type {\n",
              "        vertical-align: middle;\n",
              "    }\n",
              "\n",
              "    .dataframe tbody tr th {\n",
              "        vertical-align: top;\n",
              "    }\n",
              "\n",
              "    .dataframe thead th {\n",
              "        text-align: right;\n",
              "    }\n",
              "</style>\n",
              "<table border=\"1\" class=\"dataframe\">\n",
              "  <thead>\n",
              "    <tr style=\"text-align: right;\">\n",
              "      <th></th>\n",
              "      <th>User_Id</th>\n",
              "      <th>Place_Id</th>\n",
              "      <th>Place_Ratings</th>\n",
              "    </tr>\n",
              "  </thead>\n",
              "  <tbody>\n",
              "    <tr>\n",
              "      <th>9995</th>\n",
              "      <td>300</td>\n",
              "      <td>425</td>\n",
              "      <td>2</td>\n",
              "    </tr>\n",
              "    <tr>\n",
              "      <th>9996</th>\n",
              "      <td>300</td>\n",
              "      <td>64</td>\n",
              "      <td>4</td>\n",
              "    </tr>\n",
              "    <tr>\n",
              "      <th>9997</th>\n",
              "      <td>300</td>\n",
              "      <td>311</td>\n",
              "      <td>3</td>\n",
              "    </tr>\n",
              "    <tr>\n",
              "      <th>9998</th>\n",
              "      <td>300</td>\n",
              "      <td>279</td>\n",
              "      <td>4</td>\n",
              "    </tr>\n",
              "    <tr>\n",
              "      <th>9999</th>\n",
              "      <td>300</td>\n",
              "      <td>163</td>\n",
              "      <td>2</td>\n",
              "    </tr>\n",
              "  </tbody>\n",
              "</table>\n",
              "</div>\n",
              "      <button class=\"colab-df-convert\" onclick=\"convertToInteractive('df-8c774003-e3d5-451a-b12c-f302a79fda7c')\"\n",
              "              title=\"Convert this dataframe to an interactive table.\"\n",
              "              style=\"display:none;\">\n",
              "        \n",
              "  <svg xmlns=\"http://www.w3.org/2000/svg\" height=\"24px\"viewBox=\"0 0 24 24\"\n",
              "       width=\"24px\">\n",
              "    <path d=\"M0 0h24v24H0V0z\" fill=\"none\"/>\n",
              "    <path d=\"M18.56 5.44l.94 2.06.94-2.06 2.06-.94-2.06-.94-.94-2.06-.94 2.06-2.06.94zm-11 1L8.5 8.5l.94-2.06 2.06-.94-2.06-.94L8.5 2.5l-.94 2.06-2.06.94zm10 10l.94 2.06.94-2.06 2.06-.94-2.06-.94-.94-2.06-.94 2.06-2.06.94z\"/><path d=\"M17.41 7.96l-1.37-1.37c-.4-.4-.92-.59-1.43-.59-.52 0-1.04.2-1.43.59L10.3 9.45l-7.72 7.72c-.78.78-.78 2.05 0 2.83L4 21.41c.39.39.9.59 1.41.59.51 0 1.02-.2 1.41-.59l7.78-7.78 2.81-2.81c.8-.78.8-2.07 0-2.86zM5.41 20L4 18.59l7.72-7.72 1.47 1.35L5.41 20z\"/>\n",
              "  </svg>\n",
              "      </button>\n",
              "      \n",
              "  <style>\n",
              "    .colab-df-container {\n",
              "      display:flex;\n",
              "      flex-wrap:wrap;\n",
              "      gap: 12px;\n",
              "    }\n",
              "\n",
              "    .colab-df-convert {\n",
              "      background-color: #E8F0FE;\n",
              "      border: none;\n",
              "      border-radius: 50%;\n",
              "      cursor: pointer;\n",
              "      display: none;\n",
              "      fill: #1967D2;\n",
              "      height: 32px;\n",
              "      padding: 0 0 0 0;\n",
              "      width: 32px;\n",
              "    }\n",
              "\n",
              "    .colab-df-convert:hover {\n",
              "      background-color: #E2EBFA;\n",
              "      box-shadow: 0px 1px 2px rgba(60, 64, 67, 0.3), 0px 1px 3px 1px rgba(60, 64, 67, 0.15);\n",
              "      fill: #174EA6;\n",
              "    }\n",
              "\n",
              "    [theme=dark] .colab-df-convert {\n",
              "      background-color: #3B4455;\n",
              "      fill: #D2E3FC;\n",
              "    }\n",
              "\n",
              "    [theme=dark] .colab-df-convert:hover {\n",
              "      background-color: #434B5C;\n",
              "      box-shadow: 0px 1px 3px 1px rgba(0, 0, 0, 0.15);\n",
              "      filter: drop-shadow(0px 1px 2px rgba(0, 0, 0, 0.3));\n",
              "      fill: #FFFFFF;\n",
              "    }\n",
              "  </style>\n",
              "\n",
              "      <script>\n",
              "        const buttonEl =\n",
              "          document.querySelector('#df-8c774003-e3d5-451a-b12c-f302a79fda7c button.colab-df-convert');\n",
              "        buttonEl.style.display =\n",
              "          google.colab.kernel.accessAllowed ? 'block' : 'none';\n",
              "\n",
              "        async function convertToInteractive(key) {\n",
              "          const element = document.querySelector('#df-8c774003-e3d5-451a-b12c-f302a79fda7c');\n",
              "          const dataTable =\n",
              "            await google.colab.kernel.invokeFunction('convertToInteractive',\n",
              "                                                     [key], {});\n",
              "          if (!dataTable) return;\n",
              "\n",
              "          const docLinkHtml = 'Like what you see? Visit the ' +\n",
              "            '<a target=\"_blank\" href=https://colab.research.google.com/notebooks/data_table.ipynb>data table notebook</a>'\n",
              "            + ' to learn more about interactive tables.';\n",
              "          element.innerHTML = '';\n",
              "          dataTable['output_type'] = 'display_data';\n",
              "          await google.colab.output.renderOutput(dataTable, element);\n",
              "          const docLink = document.createElement('div');\n",
              "          docLink.innerHTML = docLinkHtml;\n",
              "          element.appendChild(docLink);\n",
              "        }\n",
              "      </script>\n",
              "    </div>\n",
              "  </div>\n",
              "  "
            ]
          },
          "metadata": {},
          "execution_count": 7
        }
      ]
    },
    {
      "cell_type": "code",
      "source": [
        "rating_df.Place_Ratings.unique()"
      ],
      "metadata": {
        "colab": {
          "base_uri": "https://localhost:8080/"
        },
        "id": "DKADl4Dd3C_G",
        "outputId": "818a14f2-a284-4556-9f45-96cf753cdb75"
      },
      "execution_count": null,
      "outputs": [
        {
          "output_type": "execute_result",
          "data": {
            "text/plain": [
              "array([3, 2, 5, 4, 1])"
            ]
          },
          "metadata": {},
          "execution_count": 8
        }
      ]
    },
    {
      "cell_type": "code",
      "source": [
        "n_tourisms = 437\n",
        "n_users = 300\n",
        "\n",
        "print(f\"Number of unique tourism places: {n_tourisms}\")\n",
        "print(f\"Number of unique users: {n_users}\")"
      ],
      "metadata": {
        "colab": {
          "base_uri": "https://localhost:8080/"
        },
        "id": "Bdv4bGzg_NH3",
        "outputId": "81588a45-8bb6-4b50-c338-c483672eecac"
      },
      "execution_count": null,
      "outputs": [
        {
          "output_type": "stream",
          "name": "stdout",
          "text": [
            "Number of unique tourism places: 437\n",
            "Number of unique users: 300\n"
          ]
        }
      ]
    },
    {
      "cell_type": "markdown",
      "source": [
        "## Data Preprocessing"
      ],
      "metadata": {
        "id": "Z12bKUMc4u_o"
      }
    },
    {
      "cell_type": "code",
      "source": [
        "from sklearn.model_selection import train_test_split\n",
        "train_df, test_df = train_test_split(rating_df, test_size=0.1, random_state=42)\n",
        "\n",
        "print(f\"Total Training Data: {len(train_df)}\")\n",
        "print(f\"Total Testing Data: {len(test_df)}\")"
      ],
      "metadata": {
        "id": "WKptMld9YmBG",
        "colab": {
          "base_uri": "https://localhost:8080/"
        },
        "outputId": "a4ea159b-5f99-4ee5-d791-956e6a1d4571"
      },
      "execution_count": null,
      "outputs": [
        {
          "output_type": "stream",
          "name": "stdout",
          "text": [
            "Total Training Data: 9000\n",
            "Total Testing Data: 1000\n"
          ]
        }
      ]
    },
    {
      "cell_type": "markdown",
      "source": [
        "## Data Modelling"
      ],
      "metadata": {
        "id": "yxbOHvgr4w8C"
      }
    },
    {
      "cell_type": "code",
      "source": [
        "def make_model(num_neurons_1, activation_type):\n",
        "  # creating Tourism embedding path\n",
        "  tourism_input = Input(shape=[1], name=\"Tourism-Input\")\n",
        "  tourism_embedding = Embedding(n_tourisms + 1, 5, name=\"Tourism-Embedding\")(tourism_input)\n",
        "  tourism_vec = Flatten(name=\"Flatten-Tourism\")(tourism_embedding)\n",
        "\n",
        "  # creating user embedding path\n",
        "  user_input = Input(shape=[1], name=\"User-Input\")\n",
        "  user_embedding = Embedding(n_users + 1, 5, name=\"User-Embedding_Tourism_input\")(user_input)\n",
        "  user_vec = Flatten(name=\"Flatten-Users_Tourism_embedding\")(user_embedding)\n",
        "\n",
        "  # concatenate features\n",
        "  conc = Concatenate()([tourism_vec, user_vec])\n",
        "\n",
        "  # add fully-connected-layers\n",
        "  fc1 = Dense(num_neurons_1, activation=f'{activation_type}')(conc)\n",
        "  fc1 = BatchNormalization()(fc1)\n",
        "  fc2 = Dense(num_neurons_1, activation=f'{activation_type}')(fc1)\n",
        "  fc2 = BatchNormalization()(fc2)\n",
        "  fc3 = Dense(num_neurons_1, activation=f'{activation_type}')(fc2)\n",
        "  fc3 = BatchNormalization()(fc3)\n",
        "  out = Dense(10, activation = \"softmax\")(fc3)\n",
        "  out = Dense(1, activation = f\"{activation_type}\")(out)\n",
        "\n",
        "  # Create model and compile it\n",
        "  model = Model([user_input, tourism_input], out)\n",
        "  model.compile('sgd',  \"mean_absolute_error\", metrics = [\n",
        "      tf.keras.metrics.RootMeanSquaredError(),\n",
        "  ])\n",
        "  return model"
      ],
      "metadata": {
        "id": "-n_J3dNmYuMd"
      },
      "execution_count": null,
      "outputs": []
    },
    {
      "cell_type": "code",
      "source": [
        "result_df = pd.DataFrame(\n",
        "    columns = [\"Neurons\", \"Activation\", \"RMSE\", \"MAE\"]\n",
        ")\n",
        "\n",
        "class ReportCallback(tf.keras.callbacks.Callback):\n",
        "  def __init__(self, neurons, activation):\n",
        "    super(ReportCallback, self).__init__()\n",
        "    self.neurons = neurons\n",
        "    self.activation = activation\n",
        "  def on_train_end(self, logs=None):\n",
        "    global result_df\n",
        "    print(f'Train RMSE: {logs[\"root_mean_squared_error\"]}')\n",
        "    print(f'Train MAE: {logs[\"loss\"]}')\n",
        "    print(f'Test RMSE: {logs[\"val_root_mean_squared_error\"]}')\n",
        "    print(f'Test MAE: {logs[\"val_loss\"]}')\n",
        "\n",
        "    result_df_new = pd.DataFrame(\n",
        "      {\n",
        "        \"Neurons\": self.neurons,\n",
        "        \"Activation\": self.activation,\n",
        "        \"RMSE\": [logs[\"val_root_mean_squared_error\"]],\n",
        "        \"MAE\": [logs[\"val_loss\"]],\n",
        "      }\n",
        "    )\n",
        "    result_df_2 = result_df.append(result_df_new, ignore_index = True)\n",
        "    result_df = result_df_2\n",
        "\n",
        "num_neurons_1 = [32, 64, 128]\n",
        "activation_types = [\"relu\", \"elu\", \"selu\"]\n",
        "\n",
        "for num_neuron in num_neurons_1:\n",
        "  for activation_type in activation_types:\n",
        "    report_callback = ReportCallback(num_neuron, activation_type)\n",
        "\n",
        "    model = make_model(num_neuron, activation_type)\n",
        "    print(f\"NUmber of neurons: {num_neuron}, activation type: {activation_type}\")\n",
        "    history = model.fit(\n",
        "        [train_df.User_Id, train_df.Place_Id],\n",
        "        train_df.Place_Ratings,\n",
        "        validation_data = ([test_df.User_Id, test_df.Place_Id], test_df.Place_Ratings),\n",
        "        epochs = 30,\n",
        "        batch_size = 64,\n",
        "        verbose = 0,\n",
        "        callbacks = [report_callback]\n",
        "    )"
      ],
      "metadata": {
        "id": "T_7XkgEGY162",
        "colab": {
          "base_uri": "https://localhost:8080/"
        },
        "outputId": "b42f0810-fd56-45e3-af13-3b646e9902c7"
      },
      "execution_count": null,
      "outputs": [
        {
          "output_type": "stream",
          "name": "stdout",
          "text": [
            "NUmber of neurons: 32, activation type: relu\n",
            "Train RMSE: 1.2605805397033691\n",
            "Train MAE: 1.0355066061019897\n",
            "Test RMSE: 1.4580702781677246\n",
            "Test MAE: 1.2309913635253906\n"
          ]
        },
        {
          "output_type": "stream",
          "name": "stderr",
          "text": [
            "<ipython-input-12-bc35e122e4e4>:25: FutureWarning: The frame.append method is deprecated and will be removed from pandas in a future version. Use pandas.concat instead.\n",
            "  result_df_2 = result_df.append(result_df_new, ignore_index = True)\n"
          ]
        },
        {
          "output_type": "stream",
          "name": "stdout",
          "text": [
            "NUmber of neurons: 32, activation type: elu\n",
            "Train RMSE: 1.2717536687850952\n",
            "Train MAE: 1.0021785497665405\n",
            "Test RMSE: 1.511716365814209\n",
            "Test MAE: 1.2450776100158691\n",
            "NUmber of neurons: 32, activation type: selu\n"
          ]
        },
        {
          "output_type": "stream",
          "name": "stderr",
          "text": [
            "<ipython-input-12-bc35e122e4e4>:25: FutureWarning: The frame.append method is deprecated and will be removed from pandas in a future version. Use pandas.concat instead.\n",
            "  result_df_2 = result_df.append(result_df_new, ignore_index = True)\n"
          ]
        },
        {
          "output_type": "stream",
          "name": "stdout",
          "text": [
            "Train RMSE: 1.3114632368087769\n",
            "Train MAE: 1.0884677171707153\n",
            "Test RMSE: 1.4381183385849\n",
            "Test MAE: 1.208886981010437\n",
            "NUmber of neurons: 64, activation type: relu\n"
          ]
        },
        {
          "output_type": "stream",
          "name": "stderr",
          "text": [
            "<ipython-input-12-bc35e122e4e4>:25: FutureWarning: The frame.append method is deprecated and will be removed from pandas in a future version. Use pandas.concat instead.\n",
            "  result_df_2 = result_df.append(result_df_new, ignore_index = True)\n"
          ]
        },
        {
          "output_type": "stream",
          "name": "stdout",
          "text": [
            "Train RMSE: 1.2682902812957764\n",
            "Train MAE: 1.049689769744873\n",
            "Test RMSE: 1.445158839225769\n",
            "Test MAE: 1.2110470533370972\n",
            "NUmber of neurons: 64, activation type: elu\n"
          ]
        },
        {
          "output_type": "stream",
          "name": "stderr",
          "text": [
            "<ipython-input-12-bc35e122e4e4>:25: FutureWarning: The frame.append method is deprecated and will be removed from pandas in a future version. Use pandas.concat instead.\n",
            "  result_df_2 = result_df.append(result_df_new, ignore_index = True)\n"
          ]
        },
        {
          "output_type": "stream",
          "name": "stdout",
          "text": [
            "Train RMSE: 1.3400434255599976\n",
            "Train MAE: 1.104640007019043\n",
            "Test RMSE: 1.3863691091537476\n",
            "Test MAE: 1.1479419469833374\n",
            "NUmber of neurons: 64, activation type: selu\n"
          ]
        },
        {
          "output_type": "stream",
          "name": "stderr",
          "text": [
            "<ipython-input-12-bc35e122e4e4>:25: FutureWarning: The frame.append method is deprecated and will be removed from pandas in a future version. Use pandas.concat instead.\n",
            "  result_df_2 = result_df.append(result_df_new, ignore_index = True)\n"
          ]
        },
        {
          "output_type": "stream",
          "name": "stdout",
          "text": [
            "Train RMSE: 1.3427940607070923\n",
            "Train MAE: 1.1116266250610352\n",
            "Test RMSE: 1.4304851293563843\n",
            "Test MAE: 1.1900136470794678\n"
          ]
        },
        {
          "output_type": "stream",
          "name": "stderr",
          "text": [
            "<ipython-input-12-bc35e122e4e4>:25: FutureWarning: The frame.append method is deprecated and will be removed from pandas in a future version. Use pandas.concat instead.\n",
            "  result_df_2 = result_df.append(result_df_new, ignore_index = True)\n"
          ]
        },
        {
          "output_type": "stream",
          "name": "stdout",
          "text": [
            "NUmber of neurons: 128, activation type: relu\n",
            "Train RMSE: 1.2150392532348633\n",
            "Train MAE: 0.96439528465271\n",
            "Test RMSE: 1.4755841493606567\n",
            "Test MAE: 1.2305710315704346\n"
          ]
        },
        {
          "output_type": "stream",
          "name": "stderr",
          "text": [
            "<ipython-input-12-bc35e122e4e4>:25: FutureWarning: The frame.append method is deprecated and will be removed from pandas in a future version. Use pandas.concat instead.\n",
            "  result_df_2 = result_df.append(result_df_new, ignore_index = True)\n"
          ]
        },
        {
          "output_type": "stream",
          "name": "stdout",
          "text": [
            "NUmber of neurons: 128, activation type: elu\n",
            "Train RMSE: 1.3010269403457642\n",
            "Train MAE: 1.066089391708374\n",
            "Test RMSE: 1.4183382987976074\n",
            "Test MAE: 1.1997517347335815\n",
            "NUmber of neurons: 128, activation type: selu\n"
          ]
        },
        {
          "output_type": "stream",
          "name": "stderr",
          "text": [
            "<ipython-input-12-bc35e122e4e4>:25: FutureWarning: The frame.append method is deprecated and will be removed from pandas in a future version. Use pandas.concat instead.\n",
            "  result_df_2 = result_df.append(result_df_new, ignore_index = True)\n"
          ]
        },
        {
          "output_type": "stream",
          "name": "stdout",
          "text": [
            "Train RMSE: 1.3407058715820312\n",
            "Train MAE: 1.0977407693862915\n",
            "Test RMSE: 1.3958295583724976\n",
            "Test MAE: 1.1648346185684204\n"
          ]
        },
        {
          "output_type": "stream",
          "name": "stderr",
          "text": [
            "<ipython-input-12-bc35e122e4e4>:25: FutureWarning: The frame.append method is deprecated and will be removed from pandas in a future version. Use pandas.concat instead.\n",
            "  result_df_2 = result_df.append(result_df_new, ignore_index = True)\n"
          ]
        }
      ]
    },
    {
      "cell_type": "code",
      "source": [
        "print(result_df)\n",
        "result_df.to_csv(\"scalable_deep_learning_result.csv\", sep = \";\", decimal = \",\", index = False)"
      ],
      "metadata": {
        "colab": {
          "base_uri": "https://localhost:8080/"
        },
        "id": "sFG42P0iU94z",
        "outputId": "c0dfa012-37ad-4552-e2b8-2e7ca0bcca42"
      },
      "execution_count": null,
      "outputs": [
        {
          "output_type": "stream",
          "name": "stdout",
          "text": [
            "  Neurons Activation      RMSE       MAE\n",
            "0      32       relu  1.458070  1.230991\n",
            "1      32        elu  1.511716  1.245078\n",
            "2      32       selu  1.438118  1.208887\n",
            "3      64       relu  1.445159  1.211047\n",
            "4      64        elu  1.386369  1.147942\n",
            "5      64       selu  1.430485  1.190014\n",
            "6     128       relu  1.475584  1.230571\n",
            "7     128        elu  1.418338  1.199752\n",
            "8     128       selu  1.395830  1.164835\n"
          ]
        }
      ]
    },
    {
      "cell_type": "code",
      "source": [
        "def plot_data(metric1, metric2, title):\n",
        "  plt.plot(history.history[metric1])\n",
        "  plt.plot(history.history[metric2])\n",
        "  plt.title(title)\n",
        "  plt.ylabel(\"Value\")\n",
        "  plt.xlabel(\"Epochs\")\n",
        "  plt.legend([metric1, metric2], loc=\"upper right\")\n",
        "  plt.show()\n",
        "\n",
        "metrics = [[\"root_mean_squared_error\", \"val_root_mean_squared_error\", \"RMSE Train Loss\"], [\"loss\", \"val_loss\", \"MAE Validation Plot\"]]\n",
        "\n",
        "for [metric1, metric2, title] in metrics:\n",
        "  plot_data(metric1, metric2, title)"
      ],
      "metadata": {
        "id": "kPISc5TIY265",
        "colab": {
          "base_uri": "https://localhost:8080/",
          "height": 927
        },
        "outputId": "14d9539a-0004-4257-e796-ef85812681f0"
      },
      "execution_count": null,
      "outputs": [
        {
          "output_type": "display_data",
          "data": {
            "text/plain": [
              "<Figure size 640x480 with 1 Axes>"
            ],
            "image/png": "[encoded data removed]"
          },
          "metadata": {}
        },
        {
          "output_type": "display_data",
          "data": {
            "text/plain": [
              "<Figure size 640x480 with 1 Axes>"
            ],
            "image/png": "[encoded data removed]"
          },
          "metadata": {}
        }
      ]
    },
    {
      "cell_type": "code",
      "source": [
        "id_place = range(1,20)\n",
        "\n",
        "# Creating dataset for making recommendations for the first user\n",
        "tourism_data = np.array(list(set(tourism_df.Place_Id)))\n",
        "tourism_data[:10]\n",
        "\n",
        "id_user = 1\n",
        "user = np.array([id_user for i in range(len(tourism_data))])\n",
        "user[:10]\n",
        "\n",
        "predictions = model.predict([user, tourism_data])\n",
        "\n",
        "predictions = np.array([a[0] for a in predictions])\n",
        "\n",
        "recommended_tourism_ids = (-predictions).argsort()[:10]\n",
        "\n",
        "recommended_tourism_ids"
      ],
      "metadata": {
        "id": "YKBgEOBCZPY8",
        "colab": {
          "base_uri": "https://localhost:8080/"
        },
        "outputId": "97b2cd18-a3cb-4c22-cbf8-114aece051b0"
      },
      "execution_count": null,
      "outputs": [
        {
          "output_type": "stream",
          "name": "stdout",
          "text": [
            "14/14 [==============================] - 0s 4ms/step\n"
          ]
        },
        {
          "output_type": "execute_result",
          "data": {
            "text/plain": [
              "array([373, 211,  16, 275, 212, 361,  12, 158, 413, 327])"
            ]
          },
          "metadata": {},
          "execution_count": 16
        }
      ]
    },
    {
      "cell_type": "code",
      "source": [
        "tourism_df[tourism_df[\"Place_Id\"].isin(recommended_tourism_ids)]"
      ],
      "metadata": {
        "colab": {
          "base_uri": "https://localhost:8080/",
          "height": 1000
        },
        "id": "hrolAEQ29pNN",
        "outputId": "66069b3d-dc3a-4f9d-c0aa-9c2a714468cc"
      },
      "execution_count": null,
      "outputs": [
        {
          "output_type": "execute_result",
          "data": {
            "text/plain": [
              "     Place_Id                     Place_Name  \\\n",
              "11         12                     Pulau Pari   \n",
              "15         16            Jembatan Kota Intan   \n",
              "157       158             Pantai Pok Tunggal   \n",
              "210       211         GunungTangkuban perahu   \n",
              "211       212                    Jalan Braga   \n",
              "274       275                  Curug Cipanas   \n",
              "326       327      Taman Miniatur Kereta Api   \n",
              "360       361   Wisata Kampung Krisan Clapar   \n",
              "372       373         Museum Kereta Ambarawa   \n",
              "412       413  Museum TNI AL Loka Jala Crana   \n",
              "\n",
              "                                           Description       Category  \\\n",
              "11   Pulau Pari adalah sebuah pulau yang terletak d...         Bahari   \n",
              "15   Jembatan Kota Intan adalah jembatan tertua di ...         Budaya   \n",
              "157  Pantai Pok Tunggal atau biasa disebut \"the hid...         Bahari   \n",
              "210  Gunung Tangkuban Parahu adalah salah satu gunu...     Cagar Alam   \n",
              "211  Jalan Braga adalah nama sebuah jalan utama di ...         Budaya   \n",
              "274  Siapa bilang berendam air panas harus merogoh ...     Cagar Alam   \n",
              "326  Salah satu wisata yang ramai di Bandung adalah...  Taman Hiburan   \n",
              "360  Wisata Kampung Krisan Gemah Ripah di Dusun Cla...  Taman Hiburan   \n",
              "372  Museum Kereta Api Ambarawa (bahasa Inggris: In...         Budaya   \n",
              "412  Museum Loka Jala Crana berdiri pada tanggal 19...         Budaya   \n",
              "\n",
              "           City   Price  Rating  Time_Minutes  \\\n",
              "11      Jakarta  150000     4.0           NaN   \n",
              "15      Jakarta       0     4.3           NaN   \n",
              "157  Yogyakarta   10000     4.5           NaN   \n",
              "210     Bandung   30000     4.5           NaN   \n",
              "211     Bandung       0     4.7           NaN   \n",
              "274     Bandung   20000     3.9         180.0   \n",
              "326     Bandung   15000     4.4           NaN   \n",
              "360    Semarang   10000     4.1           NaN   \n",
              "372    Semarang   10000     4.5          60.0   \n",
              "412    Surabaya    2000     4.5           NaN   \n",
              "\n",
              "                                          Coordinate       Lat        Long  \\\n",
              "11           {'lat': -5.9074328, 'lng': 106.5863989} -5.907433  106.586399   \n",
              "15           {'lat': -6.1314572, 'lng': 106.8106169} -6.131457  106.810617   \n",
              "157          {'lat': -8.1554468, 'lng': 110.6217582} -8.155447  110.621758   \n",
              "210  {'lat': -6.759637700000001, 'lng': 107.6097807} -6.759638  107.609781   \n",
              "211          {'lat': -6.9150534, 'lng': 107.6089842} -6.915053  107.608984   \n",
              "274          {'lat': -6.7991958, 'lng': 107.5922088} -6.799196  107.592209   \n",
              "326             {'lat': -6.817327, 'lng': 107.61794} -6.817327  107.617940   \n",
              "360  {'lat': -7.214158199999999, 'lng': 110.3769541} -7.214158  110.376954   \n",
              "372  {'lat': -7.264598899999997, 'lng': 110.4046017} -7.264599  110.404602   \n",
              "412            {'lat': -7.227185, 'lng': 112.718997} -7.227185  112.718997   \n",
              "\n",
              "     Unnamed: 11  Unnamed: 12  \n",
              "11           NaN           12  \n",
              "15           NaN           16  \n",
              "157          NaN          158  \n",
              "210          NaN          211  \n",
              "211          NaN          212  \n",
              "274          NaN          275  \n",
              "326          NaN          327  \n",
              "360          NaN          361  \n",
              "372          NaN          373  \n",
              "412          NaN          413  "
            ],
            "text/html": [
              "\n",
              "  <div id=\"df-1105734a-a30e-4ead-aa7f-efc1f2233c2e\">\n",
              "    <div class=\"colab-df-container\">\n",
              "      <div>\n",
              "<style scoped>\n",
              "    .dataframe tbody tr th:only-of-type {\n",
              "        vertical-align: middle;\n",
              "    }\n",
              "\n",
              "    .dataframe tbody tr th {\n",
              "        vertical-align: top;\n",
              "    }\n",
              "\n",
              "    .dataframe thead th {\n",
              "        text-align: right;\n",
              "    }\n",
              "</style>\n",
              "<table border=\"1\" class=\"dataframe\">\n",
              "  <thead>\n",
              "    <tr style=\"text-align: right;\">\n",
              "      <th></th>\n",
              "      <th>Place_Id</th>\n",
              "      <th>Place_Name</th>\n",
              "      <th>Description</th>\n",
              "      <th>Category</th>\n",
              "      <th>City</th>\n",
              "      <th>Price</th>\n",
              "      <th>Rating</th>\n",
              "      <th>Time_Minutes</th>\n",
              "      <th>Coordinate</th>\n",
              "      <th>Lat</th>\n",
              "      <th>Long</th>\n",
              "      <th>Unnamed: 11</th>\n",
              "      <th>Unnamed: 12</th>\n",
              "    </tr>\n",
              "  </thead>\n",
              "  <tbody>\n",
              "    <tr>\n",
              "      <th>11</th>\n",
              "      <td>12</td>\n",
              "      <td>Pulau Pari</td>\n",
              "      <td>Pulau Pari adalah sebuah pulau yang terletak d...</td>\n",
              "      <td>Bahari</td>\n",
              "      <td>Jakarta</td>\n",
              "      <td>150000</td>\n",
              "      <td>4.0</td>\n",
              "      <td>NaN</td>\n",
              "      <td>{'lat': -5.9074328, 'lng': 106.5863989}</td>\n",
              "      <td>-5.907433</td>\n",
              "      <td>106.586399</td>\n",
              "      <td>NaN</td>\n",
              "      <td>12</td>\n",
              "    </tr>\n",
              "    <tr>\n",
              "      <th>15</th>\n",
              "      <td>16</td>\n",
              "      <td>Jembatan Kota Intan</td>\n",
              "      <td>Jembatan Kota Intan adalah jembatan tertua di ...</td>\n",
              "      <td>Budaya</td>\n",
              "      <td>Jakarta</td>\n",
              "      <td>0</td>\n",
              "      <td>4.3</td>\n",
              "      <td>NaN</td>\n",
              "      <td>{'lat': -6.1314572, 'lng': 106.8106169}</td>\n",
              "      <td>-6.131457</td>\n",
              "      <td>106.810617</td>\n",
              "      <td>NaN</td>\n",
              "      <td>16</td>\n",
              "    </tr>\n",
              "    <tr>\n",
              "      <th>157</th>\n",
              "      <td>158</td>\n",
              "      <td>Pantai Pok Tunggal</td>\n",
              "      <td>Pantai Pok Tunggal atau biasa disebut \"the hid...</td>\n",
              "      <td>Bahari</td>\n",
              "      <td>Yogyakarta</td>\n",
              "      <td>10000</td>\n",
              "      <td>4.5</td>\n",
              "      <td>NaN</td>\n",
              "      <td>{'lat': -8.1554468, 'lng': 110.6217582}</td>\n",
              "      <td>-8.155447</td>\n",
              "      <td>110.621758</td>\n",
              "      <td>NaN</td>\n",
              "      <td>158</td>\n",
              "    </tr>\n",
              "    <tr>\n",
              "      <th>210</th>\n",
              "      <td>211</td>\n",
              "      <td>GunungTangkuban perahu</td>\n",
              "      <td>Gunung Tangkuban Parahu adalah salah satu gunu...</td>\n",
              "      <td>Cagar Alam</td>\n",
              "      <td>Bandung</td>\n",
              "      <td>30000</td>\n",
              "      <td>4.5</td>\n",
              "      <td>NaN</td>\n",
              "      <td>{'lat': -6.759637700000001, 'lng': 107.6097807}</td>\n",
              "      <td>-6.759638</td>\n",
              "      <td>107.609781</td>\n",
              "      <td>NaN</td>\n",
              "      <td>211</td>\n",
              "    </tr>\n",
              "    <tr>\n",
              "      <th>211</th>\n",
              "      <td>212</td>\n",
              "      <td>Jalan Braga</td>\n",
              "      <td>Jalan Braga adalah nama sebuah jalan utama di ...</td>\n",
              "      <td>Budaya</td>\n",
              "      <td>Bandung</td>\n",
              "      <td>0</td>\n",
              "      <td>4.7</td>\n",
              "      <td>NaN</td>\n",
              "      <td>{'lat': -6.9150534, 'lng': 107.6089842}</td>\n",
              "      <td>-6.915053</td>\n",
              "      <td>107.608984</td>\n",
              "      <td>NaN</td>\n",
              "      <td>212</td>\n",
              "    </tr>\n",
              "    <tr>\n",
              "      <th>274</th>\n",
              "      <td>275</td>\n",
              "      <td>Curug Cipanas</td>\n",
              "      <td>Siapa bilang berendam air panas harus merogoh ...</td>\n",
              "      <td>Cagar Alam</td>\n",
              "      <td>Bandung</td>\n",
              "      <td>20000</td>\n",
              "      <td>3.9</td>\n",
              "      <td>180.0</td>\n",
              "      <td>{'lat': -6.7991958, 'lng': 107.5922088}</td>\n",
              "      <td>-6.799196</td>\n",
              "      <td>107.592209</td>\n",
              "      <td>NaN</td>\n",
              "      <td>275</td>\n",
              "    </tr>\n",
              "    <tr>\n",
              "      <th>326</th>\n",
              "      <td>327</td>\n",
              "      <td>Taman Miniatur Kereta Api</td>\n",
              "      <td>Salah satu wisata yang ramai di Bandung adalah...</td>\n",
              "      <td>Taman Hiburan</td>\n",
              "      <td>Bandung</td>\n",
              "      <td>15000</td>\n",
              "      <td>4.4</td>\n",
              "      <td>NaN</td>\n",
              "      <td>{'lat': -6.817327, 'lng': 107.61794}</td>\n",
              "      <td>-6.817327</td>\n",
              "      <td>107.617940</td>\n",
              "      <td>NaN</td>\n",
              "      <td>327</td>\n",
              "    </tr>\n",
              "    <tr>\n",
              "      <th>360</th>\n",
              "      <td>361</td>\n",
              "      <td>Wisata Kampung Krisan Clapar</td>\n",
              "      <td>Wisata Kampung Krisan Gemah Ripah di Dusun Cla...</td>\n",
              "      <td>Taman Hiburan</td>\n",
              "      <td>Semarang</td>\n",
              "      <td>10000</td>\n",
              "      <td>4.1</td>\n",
              "      <td>NaN</td>\n",
              "      <td>{'lat': -7.214158199999999, 'lng': 110.3769541}</td>\n",
              "      <td>-7.214158</td>\n",
              "      <td>110.376954</td>\n",
              "      <td>NaN</td>\n",
              "      <td>361</td>\n",
              "    </tr>\n",
              "    <tr>\n",
              "      <th>372</th>\n",
              "      <td>373</td>\n",
              "      <td>Museum Kereta Ambarawa</td>\n",
              "      <td>Museum Kereta Api Ambarawa (bahasa Inggris: In...</td>\n",
              "      <td>Budaya</td>\n",
              "      <td>Semarang</td>\n",
              "      <td>10000</td>\n",
              "      <td>4.5</td>\n",
              "      <td>60.0</td>\n",
              "      <td>{'lat': -7.264598899999997, 'lng': 110.4046017}</td>\n",
              "      <td>-7.264599</td>\n",
              "      <td>110.404602</td>\n",
              "      <td>NaN</td>\n",
              "      <td>373</td>\n",
              "    </tr>\n",
              "    <tr>\n",
              "      <th>412</th>\n",
              "      <td>413</td>\n",
              "      <td>Museum TNI AL Loka Jala Crana</td>\n",
              "      <td>Museum Loka Jala Crana berdiri pada tanggal 19...</td>\n",
              "      <td>Budaya</td>\n",
              "      <td>Surabaya</td>\n",
              "      <td>2000</td>\n",
              "      <td>4.5</td>\n",
              "      <td>NaN</td>\n",
              "      <td>{'lat': -7.227185, 'lng': 112.718997}</td>\n",
              "      <td>-7.227185</td>\n",
              "      <td>112.718997</td>\n",
              "      <td>NaN</td>\n",
              "      <td>413</td>\n",
              "    </tr>\n",
              "  </tbody>\n",
              "</table>\n",
              "</div>\n",
              "      <button class=\"colab-df-convert\" onclick=\"convertToInteractive('df-1105734a-a30e-4ead-aa7f-efc1f2233c2e')\"\n",
              "              title=\"Convert this dataframe to an interactive table.\"\n",
              "              style=\"display:none;\">\n",
              "        \n",
              "  <svg xmlns=\"http://www.w3.org/2000/svg\" height=\"24px\"viewBox=\"0 0 24 24\"\n",
              "       width=\"24px\">\n",
              "    <path d=\"M0 0h24v24H0V0z\" fill=\"none\"/>\n",
              "    <path d=\"M18.56 5.44l.94 2.06.94-2.06 2.06-.94-2.06-.94-.94-2.06-.94 2.06-2.06.94zm-11 1L8.5 8.5l.94-2.06 2.06-.94-2.06-.94L8.5 2.5l-.94 2.06-2.06.94zm10 10l.94 2.06.94-2.06 2.06-.94-2.06-.94-.94-2.06-.94 2.06-2.06.94z\"/><path d=\"M17.41 7.96l-1.37-1.37c-.4-.4-.92-.59-1.43-.59-.52 0-1.04.2-1.43.59L10.3 9.45l-7.72 7.72c-.78.78-.78 2.05 0 2.83L4 21.41c.39.39.9.59 1.41.59.51 0 1.02-.2 1.41-.59l7.78-7.78 2.81-2.81c.8-.78.8-2.07 0-2.86zM5.41 20L4 18.59l7.72-7.72 1.47 1.35L5.41 20z\"/>\n",
              "  </svg>\n",
              "      </button>\n",
              "      \n",
              "  <style>\n",
              "    .colab-df-container {\n",
              "      display:flex;\n",
              "      flex-wrap:wrap;\n",
              "      gap: 12px;\n",
              "    }\n",
              "\n",
              "    .colab-df-convert {\n",
              "      background-color: #E8F0FE;\n",
              "      border: none;\n",
              "      border-radius: 50%;\n",
              "      cursor: pointer;\n",
              "      display: none;\n",
              "      fill: #1967D2;\n",
              "      height: 32px;\n",
              "      padding: 0 0 0 0;\n",
              "      width: 32px;\n",
              "    }\n",
              "\n",
              "    .colab-df-convert:hover {\n",
              "      background-color: #E2EBFA;\n",
              "      box-shadow: 0px 1px 2px rgba(60, 64, 67, 0.3), 0px 1px 3px 1px rgba(60, 64, 67, 0.15);\n",
              "      fill: #174EA6;\n",
              "    }\n",
              "\n",
              "    [theme=dark] .colab-df-convert {\n",
              "      background-color: #3B4455;\n",
              "      fill: #D2E3FC;\n",
              "    }\n",
              "\n",
              "    [theme=dark] .colab-df-convert:hover {\n",
              "      background-color: #434B5C;\n",
              "      box-shadow: 0px 1px 3px 1px rgba(0, 0, 0, 0.15);\n",
              "      filter: drop-shadow(0px 1px 2px rgba(0, 0, 0, 0.3));\n",
              "      fill: #FFFFFF;\n",
              "    }\n",
              "  </style>\n",
              "\n",
              "      <script>\n",
              "        const buttonEl =\n",
              "          document.querySelector('#df-1105734a-a30e-4ead-aa7f-efc1f2233c2e button.colab-df-convert');\n",
              "        buttonEl.style.display =\n",
              "          google.colab.kernel.accessAllowed ? 'block' : 'none';\n",
              "\n",
              "        async function convertToInteractive(key) {\n",
              "          const element = document.querySelector('#df-1105734a-a30e-4ead-aa7f-efc1f2233c2e');\n",
              "          const dataTable =\n",
              "            await google.colab.kernel.invokeFunction('convertToInteractive',\n",
              "                                                     [key], {});\n",
              "          if (!dataTable) return;\n",
              "\n",
              "          const docLinkHtml = 'Like what you see? Visit the ' +\n",
              "            '<a target=\"_blank\" href=https://colab.research.google.com/notebooks/data_table.ipynb>data table notebook</a>'\n",
              "            + ' to learn more about interactive tables.';\n",
              "          element.innerHTML = '';\n",
              "          dataTable['output_type'] = 'display_data';\n",
              "          await google.colab.output.renderOutput(dataTable, element);\n",
              "          const docLink = document.createElement('div');\n",
              "          docLink.innerHTML = docLinkHtml;\n",
              "          element.appendChild(docLink);\n",
              "        }\n",
              "      </script>\n",
              "    </div>\n",
              "  </div>\n",
              "  "
            ]
          },
          "metadata": {},
          "execution_count": 17
        }
      ]
    }
  ]
}