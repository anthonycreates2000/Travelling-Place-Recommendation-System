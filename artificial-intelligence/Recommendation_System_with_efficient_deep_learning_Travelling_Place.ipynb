{
  "nbformat": 4,
  "nbformat_minor": 0,
  "metadata": {
    "colab": {
      "provenance": []
    },
    "kernelspec": {
      "name": "python3",
      "display_name": "Python 3"
    },
    "language_info": {
      "name": "python"
    },
    "accelerator": "GPU",
    "gpuClass": "standard"
  },
  "cells": [
    {
      "cell_type": "markdown",
      "source": [
        "# Recommendation System from the paper: An Efficient Deep Learning Approach for Collaborative Filtering Recommender System\n",
        "\n"
      ],
      "metadata": {
        "id": "cJvznglScsE2"
      }
    },
    {
      "cell_type": "code",
      "execution_count": null,
      "metadata": {
        "id": "fkNdL1uBcetw"
      },
      "outputs": [],
      "source": [
        "import numpy as np\n",
        "import pandas as pd\n",
        "import matplotlib.pyplot as plt\n",
        "import keras\n",
        "import os\n",
        "import warnings\n",
        "import tensorflow as tf\n",
        "from keras.layers import Input, Embedding, Flatten, Dot, Dense, Concatenate, Dropout\n",
        "from keras.models import Model\n",
        "from keras import backend as K"
      ]
    },
    {
      "cell_type": "code",
      "source": [
        "from google.colab import files\n",
        "\n",
        "print(\"Please upload your kaggle.json file.\")\n",
        "uploaded = files.upload()\n",
        "\n",
        "for fn in uploaded.keys():\n",
        "  print('User uploaded file \"{name}\" with length {length} bytes'.format(\n",
        "      name=fn, length=len(uploaded[fn])))"
      ],
      "metadata": {
        "colab": {
          "base_uri": "https://localhost:8080/",
          "height": 106
        },
        "id": "4vLqY1ni124W",
        "outputId": "44f2a185-2a1c-4c98-e57d-ce18c7fe9d25"
      },
      "execution_count": null,
      "outputs": [
        {
          "output_type": "stream",
          "name": "stdout",
          "text": [
            "Please upload your kaggle.json file.\n"
          ]
        },
        {
          "output_type": "display_data",
          "data": {
            "text/plain": [
              "<IPython.core.display.HTML object>"
            ],
            "text/html": [
              "\n",
              "     <input type=\"file\" id=\"files-b01d37a6-07ff-443b-956b-844e172f5005\" name=\"files[]\" multiple disabled\n",
              "        style=\"border:none\" />\n",
              "     <output id=\"result-b01d37a6-07ff-443b-956b-844e172f5005\">\n",
              "      Upload widget is only available when the cell has been executed in the\n",
              "      current browser session. Please rerun this cell to enable.\n",
              "      </output>\n",
              "      <script>// Copyright 2017 Google LLC\n",
              "//\n",
              "// Licensed under the Apache License, Version 2.0 (the \"License\");\n",
              "// you may not use this file except in compliance with the License.\n",
              "// You may obtain a copy of the License at\n",
              "//\n",
              "//      http://www.apache.org/licenses/LICENSE-2.0\n",
              "//\n",
              "// Unless required by applicable law or agreed to in writing, software\n",
              "// distributed under the License is distributed on an \"AS IS\" BASIS,\n",
              "// WITHOUT WARRANTIES OR CONDITIONS OF ANY KIND, either express or implied.\n",
              "// See the License for the specific language governing permissions and\n",
              "// limitations under the License.\n",
              "\n",
              "/**\n",
              " * @fileoverview Helpers for google.colab Python module.\n",
              " */\n",
              "(function(scope) {\n",
              "function span(text, styleAttributes = {}) {\n",
              "  const element = document.createElement('span');\n",
              "  element.textContent = text;\n",
              "  for (const key of Object.keys(styleAttributes)) {\n",
              "    element.style[key] = styleAttributes[key];\n",
              "  }\n",
              "  return element;\n",
              "}\n",
              "\n",
              "// Max number of bytes which will be uploaded at a time.\n",
              "const MAX_PAYLOAD_SIZE = 100 * 1024;\n",
              "\n",
              "function _uploadFiles(inputId, outputId) {\n",
              "  const steps = uploadFilesStep(inputId, outputId);\n",
              "  const outputElement = document.getElementById(outputId);\n",
              "  // Cache steps on the outputElement to make it available for the next call\n",
              "  // to uploadFilesContinue from Python.\n",
              "  outputElement.steps = steps;\n",
              "\n",
              "  return _uploadFilesContinue(outputId);\n",
              "}\n",
              "\n",
              "// This is roughly an async generator (not supported in the browser yet),\n",
              "// where there are multiple asynchronous steps and the Python side is going\n",
              "// to poll for completion of each step.\n",
              "// This uses a Promise to block the python side on completion of each step,\n",
              "// then passes the result of the previous step as the input to the next step.\n",
              "function _uploadFilesContinue(outputId) {\n",
              "  const outputElement = document.getElementById(outputId);\n",
              "  const steps = outputElement.steps;\n",
              "\n",
              "  const next = steps.next(outputElement.lastPromiseValue);\n",
              "  return Promise.resolve(next.value.promise).then((value) => {\n",
              "    // Cache the last promise value to make it available to the next\n",
              "    // step of the generator.\n",
              "    outputElement.lastPromiseValue = value;\n",
              "    return next.value.response;\n",
              "  });\n",
              "}\n",
              "\n",
              "/**\n",
              " * Generator function which is called between each async step of the upload\n",
              " * process.\n",
              " * @param {string} inputId Element ID of the input file picker element.\n",
              " * @param {string} outputId Element ID of the output display.\n",
              " * @return {!Iterable<!Object>} Iterable of next steps.\n",
              " */\n",
              "function* uploadFilesStep(inputId, outputId) {\n",
              "  const inputElement = document.getElementById(inputId);\n",
              "  inputElement.disabled = false;\n",
              "\n",
              "  const outputElement = document.getElementById(outputId);\n",
              "  outputElement.innerHTML = '';\n",
              "\n",
              "  const pickedPromise = new Promise((resolve) => {\n",
              "    inputElement.addEventListener('change', (e) => {\n",
              "      resolve(e.target.files);\n",
              "    });\n",
              "  });\n",
              "\n",
              "  const cancel = document.createElement('button');\n",
              "  inputElement.parentElement.appendChild(cancel);\n",
              "  cancel.textContent = 'Cancel upload';\n",
              "  const cancelPromise = new Promise((resolve) => {\n",
              "    cancel.onclick = () => {\n",
              "      resolve(null);\n",
              "    };\n",
              "  });\n",
              "\n",
              "  // Wait for the user to pick the files.\n",
              "  const files = yield {\n",
              "    promise: Promise.race([pickedPromise, cancelPromise]),\n",
              "    response: {\n",
              "      action: 'starting',\n",
              "    }\n",
              "  };\n",
              "\n",
              "  cancel.remove();\n",
              "\n",
              "  // Disable the input element since further picks are not allowed.\n",
              "  inputElement.disabled = true;\n",
              "\n",
              "  if (!files) {\n",
              "    return {\n",
              "      response: {\n",
              "        action: 'complete',\n",
              "      }\n",
              "    };\n",
              "  }\n",
              "\n",
              "  for (const file of files) {\n",
              "    const li = document.createElement('li');\n",
              "    li.append(span(file.name, {fontWeight: 'bold'}));\n",
              "    li.append(span(\n",
              "        `(${file.type || 'n/a'}) - ${file.size} bytes, ` +\n",
              "        `last modified: ${\n",
              "            file.lastModifiedDate ? file.lastModifiedDate.toLocaleDateString() :\n",
              "                                    'n/a'} - `));\n",
              "    const percent = span('0% done');\n",
              "    li.appendChild(percent);\n",
              "\n",
              "    outputElement.appendChild(li);\n",
              "\n",
              "    const fileDataPromise = new Promise((resolve) => {\n",
              "      const reader = new FileReader();\n",
              "      reader.onload = (e) => {\n",
              "        resolve(e.target.result);\n",
              "      };\n",
              "      reader.readAsArrayBuffer(file);\n",
              "    });\n",
              "    // Wait for the data to be ready.\n",
              "    let fileData = yield {\n",
              "      promise: fileDataPromise,\n",
              "      response: {\n",
              "        action: 'continue',\n",
              "      }\n",
              "    };\n",
              "\n",
              "    // Use a chunked sending to avoid message size limits. See b/62115660.\n",
              "    let position = 0;\n",
              "    do {\n",
              "      const length = Math.min(fileData.byteLength - position, MAX_PAYLOAD_SIZE);\n",
              "      const chunk = new Uint8Array(fileData, position, length);\n",
              "      position += length;\n",
              "\n",
              "      const base64 = btoa(String.fromCharCode.apply(null, chunk));\n",
              "      yield {\n",
              "        response: {\n",
              "          action: 'append',\n",
              "          file: file.name,\n",
              "          data: base64,\n",
              "        },\n",
              "      };\n",
              "\n",
              "      let percentDone = fileData.byteLength === 0 ?\n",
              "          100 :\n",
              "          Math.round((position / fileData.byteLength) * 100);\n",
              "      percent.textContent = `${percentDone}% done`;\n",
              "\n",
              "    } while (position < fileData.byteLength);\n",
              "  }\n",
              "\n",
              "  // All done.\n",
              "  yield {\n",
              "    response: {\n",
              "      action: 'complete',\n",
              "    }\n",
              "  };\n",
              "}\n",
              "\n",
              "scope.google = scope.google || {};\n",
              "scope.google.colab = scope.google.colab || {};\n",
              "scope.google.colab._files = {\n",
              "  _uploadFiles,\n",
              "  _uploadFilesContinue,\n",
              "};\n",
              "})(self);\n",
              "</script> "
            ]
          },
          "metadata": {}
        },
        {
          "output_type": "stream",
          "name": "stdout",
          "text": [
            "Saving kaggle.json to kaggle.json\n",
            "User uploaded file \"kaggle.json\" with length 71 bytes\n"
          ]
        }
      ]
    },
    {
      "cell_type": "code",
      "source": [
        "from google.colab import drive\n",
        "drive.mount('/content/drive')"
      ],
      "metadata": {
        "colab": {
          "base_uri": "https://localhost:8080/"
        },
        "id": "cU3MKscVyOQ5",
        "outputId": "d288f315-ac77-46f9-8341-eba399dbc818"
      },
      "execution_count": null,
      "outputs": [
        {
          "output_type": "stream",
          "name": "stdout",
          "text": [
            "Mounted at /content/drive\n"
          ]
        }
      ]
    },
    {
      "cell_type": "code",
      "source": [
        "! cp ./kaggle.json ~/.kaggle/\n",
        "! kaggle datasets download -d aprabowo/indonesia-tourism-destination\n",
        "! unzip indonesia-tourism-destination.zip"
      ],
      "metadata": {
        "colab": {
          "base_uri": "https://localhost:8080/"
        },
        "id": "XQeE2agy14j4",
        "outputId": "4e146fea-a142-4028-c79a-350d87a26f8d"
      },
      "execution_count": null,
      "outputs": [
        {
          "output_type": "stream",
          "name": "stdout",
          "text": [
            "Warning: Your Kaggle API key is readable by other users on this system! To fix this, you can run 'chmod 600 /root/.kaggle/kaggle.json'\n",
            "Downloading indonesia-tourism-destination.zip to /content\n",
            "  0% 0.00/158k [00:00<?, ?B/s]\n",
            "100% 158k/158k [00:00<00:00, 128MB/s]\n",
            "Archive:  indonesia-tourism-destination.zip\n",
            "  inflating: package_tourism.csv     \n",
            "  inflating: tourism_rating.csv      \n",
            "  inflating: tourism_with_id.csv     \n",
            "  inflating: user.csv                \n"
          ]
        }
      ]
    },
    {
      "cell_type": "code",
      "source": [
        "tourism_df = pd.read_csv(\"./tourism_with_id.csv\")\n",
        "rating_df = pd.read_csv(\"./tourism_rating.csv\")"
      ],
      "metadata": {
        "id": "fUxie8Sq180U"
      },
      "execution_count": null,
      "outputs": []
    },
    {
      "cell_type": "code",
      "source": [
        "tourism_df.tail()"
      ],
      "metadata": {
        "colab": {
          "base_uri": "https://localhost:8080/",
          "height": 670
        },
        "id": "k5wDfWPh7eX0",
        "outputId": "7c788571-3245-43ed-e844-a018fc0f15b9"
      },
      "execution_count": null,
      "outputs": [
        {
          "output_type": "execute_result",
          "data": {
            "text/plain": [
              "     Place_Id                                 Place_Name  \\\n",
              "432       433                        Museum Mpu Tantular   \n",
              "433       434                              Taman Bungkul   \n",
              "434       435           Taman Air Mancur Menari Kenjeran   \n",
              "435       436               Taman Flora Bratang Surabaya   \n",
              "436       437  Gereja Perawan Maria Tak Berdosa Surabaya   \n",
              "\n",
              "                                           Description       Category  \\\n",
              "432  Museum Negeri Mpu Tantular adalah sebuah museu...         Budaya   \n",
              "433  Taman Bungkul adalah taman wisata kota yang te...  Taman Hiburan   \n",
              "434  Air mancur menari atau dancing fountain juga a...  Taman Hiburan   \n",
              "435  Taman Flora adalah salah satu taman kota di Su...  Taman Hiburan   \n",
              "436  Gereja Katolik Kelahiran Santa Perawan Maria m...  Tempat Ibadah   \n",
              "\n",
              "         City  Price  Rating  Time_Minutes  \\\n",
              "432  Surabaya   2000     4.4          45.0   \n",
              "433  Surabaya      0     4.6           NaN   \n",
              "434  Surabaya      0     4.4          45.0   \n",
              "435  Surabaya      0     4.6           NaN   \n",
              "436  Surabaya  10000     4.8           NaN   \n",
              "\n",
              "                                          Coordinate       Lat        Long  \\\n",
              "432          {'lat': -7.4338593, 'lng': 112.7199058} -7.433859  112.719906   \n",
              "433  {'lat': -7.291346799999999, 'lng': 112.7398218} -7.291347  112.739822   \n",
              "434          {'lat': -7.2752955, 'lng': 112.7549381} -7.275296  112.754938   \n",
              "435  {'lat': -7.294330299999999, 'lng': 112.7617534} -7.294330  112.761753   \n",
              "436          {'lat': -7.2420758, 'lng': 112.7368158} -7.242076  112.736816   \n",
              "\n",
              "     Unnamed: 11  Unnamed: 12  \n",
              "432          NaN          433  \n",
              "433          NaN          434  \n",
              "434          NaN          435  \n",
              "435          NaN          436  \n",
              "436          NaN          437  "
            ],
            "text/html": [
              "\n",
              "  <div id=\"df-8303e1ae-b8d5-4569-8f64-d7ae74af440f\">\n",
              "    <div class=\"colab-df-container\">\n",
              "      <div>\n",
              "<style scoped>\n",
              "    .dataframe tbody tr th:only-of-type {\n",
              "        vertical-align: middle;\n",
              "    }\n",
              "\n",
              "    .dataframe tbody tr th {\n",
              "        vertical-align: top;\n",
              "    }\n",
              "\n",
              "    .dataframe thead th {\n",
              "        text-align: right;\n",
              "    }\n",
              "</style>\n",
              "<table border=\"1\" class=\"dataframe\">\n",
              "  <thead>\n",
              "    <tr style=\"text-align: right;\">\n",
              "      <th></th>\n",
              "      <th>Place_Id</th>\n",
              "      <th>Place_Name</th>\n",
              "      <th>Description</th>\n",
              "      <th>Category</th>\n",
              "      <th>City</th>\n",
              "      <th>Price</th>\n",
              "      <th>Rating</th>\n",
              "      <th>Time_Minutes</th>\n",
              "      <th>Coordinate</th>\n",
              "      <th>Lat</th>\n",
              "      <th>Long</th>\n",
              "      <th>Unnamed: 11</th>\n",
              "      <th>Unnamed: 12</th>\n",
              "    </tr>\n",
              "  </thead>\n",
              "  <tbody>\n",
              "    <tr>\n",
              "      <th>432</th>\n",
              "      <td>433</td>\n",
              "      <td>Museum Mpu Tantular</td>\n",
              "      <td>Museum Negeri Mpu Tantular adalah sebuah museu...</td>\n",
              "      <td>Budaya</td>\n",
              "      <td>Surabaya</td>\n",
              "      <td>2000</td>\n",
              "      <td>4.4</td>\n",
              "      <td>45.0</td>\n",
              "      <td>{'lat': -7.4338593, 'lng': 112.7199058}</td>\n",
              "      <td>-7.433859</td>\n",
              "      <td>112.719906</td>\n",
              "      <td>NaN</td>\n",
              "      <td>433</td>\n",
              "    </tr>\n",
              "    <tr>\n",
              "      <th>433</th>\n",
              "      <td>434</td>\n",
              "      <td>Taman Bungkul</td>\n",
              "      <td>Taman Bungkul adalah taman wisata kota yang te...</td>\n",
              "      <td>Taman Hiburan</td>\n",
              "      <td>Surabaya</td>\n",
              "      <td>0</td>\n",
              "      <td>4.6</td>\n",
              "      <td>NaN</td>\n",
              "      <td>{'lat': -7.291346799999999, 'lng': 112.7398218}</td>\n",
              "      <td>-7.291347</td>\n",
              "      <td>112.739822</td>\n",
              "      <td>NaN</td>\n",
              "      <td>434</td>\n",
              "    </tr>\n",
              "    <tr>\n",
              "      <th>434</th>\n",
              "      <td>435</td>\n",
              "      <td>Taman Air Mancur Menari Kenjeran</td>\n",
              "      <td>Air mancur menari atau dancing fountain juga a...</td>\n",
              "      <td>Taman Hiburan</td>\n",
              "      <td>Surabaya</td>\n",
              "      <td>0</td>\n",
              "      <td>4.4</td>\n",
              "      <td>45.0</td>\n",
              "      <td>{'lat': -7.2752955, 'lng': 112.7549381}</td>\n",
              "      <td>-7.275296</td>\n",
              "      <td>112.754938</td>\n",
              "      <td>NaN</td>\n",
              "      <td>435</td>\n",
              "    </tr>\n",
              "    <tr>\n",
              "      <th>435</th>\n",
              "      <td>436</td>\n",
              "      <td>Taman Flora Bratang Surabaya</td>\n",
              "      <td>Taman Flora adalah salah satu taman kota di Su...</td>\n",
              "      <td>Taman Hiburan</td>\n",
              "      <td>Surabaya</td>\n",
              "      <td>0</td>\n",
              "      <td>4.6</td>\n",
              "      <td>NaN</td>\n",
              "      <td>{'lat': -7.294330299999999, 'lng': 112.7617534}</td>\n",
              "      <td>-7.294330</td>\n",
              "      <td>112.761753</td>\n",
              "      <td>NaN</td>\n",
              "      <td>436</td>\n",
              "    </tr>\n",
              "    <tr>\n",
              "      <th>436</th>\n",
              "      <td>437</td>\n",
              "      <td>Gereja Perawan Maria Tak Berdosa Surabaya</td>\n",
              "      <td>Gereja Katolik Kelahiran Santa Perawan Maria m...</td>\n",
              "      <td>Tempat Ibadah</td>\n",
              "      <td>Surabaya</td>\n",
              "      <td>10000</td>\n",
              "      <td>4.8</td>\n",
              "      <td>NaN</td>\n",
              "      <td>{'lat': -7.2420758, 'lng': 112.7368158}</td>\n",
              "      <td>-7.242076</td>\n",
              "      <td>112.736816</td>\n",
              "      <td>NaN</td>\n",
              "      <td>437</td>\n",
              "    </tr>\n",
              "  </tbody>\n",
              "</table>\n",
              "</div>\n",
              "      <button class=\"colab-df-convert\" onclick=\"convertToInteractive('df-8303e1ae-b8d5-4569-8f64-d7ae74af440f')\"\n",
              "              title=\"Convert this dataframe to an interactive table.\"\n",
              "              style=\"display:none;\">\n",
              "        \n",
              "  <svg xmlns=\"http://www.w3.org/2000/svg\" height=\"24px\"viewBox=\"0 0 24 24\"\n",
              "       width=\"24px\">\n",
              "    <path d=\"M0 0h24v24H0V0z\" fill=\"none\"/>\n",
              "    <path d=\"M18.56 5.44l.94 2.06.94-2.06 2.06-.94-2.06-.94-.94-2.06-.94 2.06-2.06.94zm-11 1L8.5 8.5l.94-2.06 2.06-.94-2.06-.94L8.5 2.5l-.94 2.06-2.06.94zm10 10l.94 2.06.94-2.06 2.06-.94-2.06-.94-.94-2.06-.94 2.06-2.06.94z\"/><path d=\"M17.41 7.96l-1.37-1.37c-.4-.4-.92-.59-1.43-.59-.52 0-1.04.2-1.43.59L10.3 9.45l-7.72 7.72c-.78.78-.78 2.05 0 2.83L4 21.41c.39.39.9.59 1.41.59.51 0 1.02-.2 1.41-.59l7.78-7.78 2.81-2.81c.8-.78.8-2.07 0-2.86zM5.41 20L4 18.59l7.72-7.72 1.47 1.35L5.41 20z\"/>\n",
              "  </svg>\n",
              "      </button>\n",
              "      \n",
              "  <style>\n",
              "    .colab-df-container {\n",
              "      display:flex;\n",
              "      flex-wrap:wrap;\n",
              "      gap: 12px;\n",
              "    }\n",
              "\n",
              "    .colab-df-convert {\n",
              "      background-color: #E8F0FE;\n",
              "      border: none;\n",
              "      border-radius: 50%;\n",
              "      cursor: pointer;\n",
              "      display: none;\n",
              "      fill: #1967D2;\n",
              "      height: 32px;\n",
              "      padding: 0 0 0 0;\n",
              "      width: 32px;\n",
              "    }\n",
              "\n",
              "    .colab-df-convert:hover {\n",
              "      background-color: #E2EBFA;\n",
              "      box-shadow: 0px 1px 2px rgba(60, 64, 67, 0.3), 0px 1px 3px 1px rgba(60, 64, 67, 0.15);\n",
              "      fill: #174EA6;\n",
              "    }\n",
              "\n",
              "    [theme=dark] .colab-df-convert {\n",
              "      background-color: #3B4455;\n",
              "      fill: #D2E3FC;\n",
              "    }\n",
              "\n",
              "    [theme=dark] .colab-df-convert:hover {\n",
              "      background-color: #434B5C;\n",
              "      box-shadow: 0px 1px 3px 1px rgba(0, 0, 0, 0.15);\n",
              "      filter: drop-shadow(0px 1px 2px rgba(0, 0, 0, 0.3));\n",
              "      fill: #FFFFFF;\n",
              "    }\n",
              "  </style>\n",
              "\n",
              "      <script>\n",
              "        const buttonEl =\n",
              "          document.querySelector('#df-8303e1ae-b8d5-4569-8f64-d7ae74af440f button.colab-df-convert');\n",
              "        buttonEl.style.display =\n",
              "          google.colab.kernel.accessAllowed ? 'block' : 'none';\n",
              "\n",
              "        async function convertToInteractive(key) {\n",
              "          const element = document.querySelector('#df-8303e1ae-b8d5-4569-8f64-d7ae74af440f');\n",
              "          const dataTable =\n",
              "            await google.colab.kernel.invokeFunction('convertToInteractive',\n",
              "                                                     [key], {});\n",
              "          if (!dataTable) return;\n",
              "\n",
              "          const docLinkHtml = 'Like what you see? Visit the ' +\n",
              "            '<a target=\"_blank\" href=https://colab.research.google.com/notebooks/data_table.ipynb>data table notebook</a>'\n",
              "            + ' to learn more about interactive tables.';\n",
              "          element.innerHTML = '';\n",
              "          dataTable['output_type'] = 'display_data';\n",
              "          await google.colab.output.renderOutput(dataTable, element);\n",
              "          const docLink = document.createElement('div');\n",
              "          docLink.innerHTML = docLinkHtml;\n",
              "          element.appendChild(docLink);\n",
              "        }\n",
              "      </script>\n",
              "    </div>\n",
              "  </div>\n",
              "  "
            ]
          },
          "metadata": {},
          "execution_count": 7
        }
      ]
    },
    {
      "cell_type": "markdown",
      "source": [
        "Filter the ratings, so higher ratings (4 and 5) get 1, otherwise, it gets 0."
      ],
      "metadata": {
        "id": "dx_ZcLenSUkT"
      }
    },
    {
      "cell_type": "code",
      "source": [
        "# def rating_change(rating):\n",
        "#   if rating >= 4:\n",
        "#     return 1\n",
        "#   else:\n",
        "#     return 0\n",
        "\n",
        "preprocessing_rating_df = rating_df.copy()\n",
        "# preprocessing_rating_df[\"Place_Ratings\"] = np.vectorize(rating_change)(preprocessing_rating_df[\"Place_Ratings\"])"
      ],
      "metadata": {
        "id": "m4o6ezdWS6pT"
      },
      "execution_count": null,
      "outputs": []
    },
    {
      "cell_type": "code",
      "source": [
        "n_tourisms = 437\n",
        "n_users = 303\n",
        "\n",
        "print(f\"Number of unique tourism places: {n_tourisms}\")\n",
        "print(f\"Number of unique users: {n_users}\")"
      ],
      "metadata": {
        "colab": {
          "base_uri": "https://localhost:8080/"
        },
        "id": "Bdv4bGzg_NH3",
        "outputId": "520a66af-d6fb-42e3-8d0a-e47e42751264"
      },
      "execution_count": null,
      "outputs": [
        {
          "output_type": "stream",
          "name": "stdout",
          "text": [
            "Number of unique tourism places: 437\n",
            "Number of unique users: 303\n"
          ]
        }
      ]
    },
    {
      "cell_type": "code",
      "source": [
        "# preprocessing_rating_df[\"Place_Ratings\"]"
      ],
      "metadata": {
        "id": "d5-8nbaSVTJS"
      },
      "execution_count": null,
      "outputs": []
    },
    {
      "cell_type": "markdown",
      "source": [
        "## Data Preprocessing"
      ],
      "metadata": {
        "id": "Z12bKUMc4u_o"
      }
    },
    {
      "cell_type": "code",
      "source": [
        "from sklearn.model_selection import train_test_split\n",
        "train_df, test_df = train_test_split(preprocessing_rating_df, test_size=0.1, random_state=42)\n",
        "\n",
        "print(f\"Total Training Data: {len(train_df)}\")\n",
        "print(f\"Total Testing Data: {len(test_df)}\")"
      ],
      "metadata": {
        "id": "WKptMld9YmBG",
        "colab": {
          "base_uri": "https://localhost:8080/"
        },
        "outputId": "6de431e2-b51a-429f-9530-05b5bafc592d"
      },
      "execution_count": null,
      "outputs": [
        {
          "output_type": "stream",
          "name": "stdout",
          "text": [
            "Total Training Data: 9000\n",
            "Total Testing Data: 1000\n"
          ]
        }
      ]
    },
    {
      "cell_type": "markdown",
      "source": [
        "## Data Modelling"
      ],
      "metadata": {
        "id": "yxbOHvgr4w8C"
      }
    },
    {
      "cell_type": "code",
      "source": [
        "num_neurons_1 = [150, 200, 250]\n",
        "activation_types = [\"relu\", \"elu\", \"selu\"]\n",
        "\n",
        "def make_model(num_neurons_1, activation_type):\n",
        "  # creating Movie embedding path\n",
        "  tourism_input = Input(shape=[1], name=\"Tourism-Input\")\n",
        "  tourism_embedding = Embedding(n_tourisms + 1, 5, name=\"Tourism-Embedding\")(tourism_input)\n",
        "\n",
        "  tourism_vec = Flatten(name=\"Flatten-Tourism\")(tourism_embedding)\n",
        "\n",
        "  # creating user embedding path\n",
        "  user_input = Input(shape=[1], name=\"User-Input\")\n",
        "  user_embedding = Embedding(n_users + 1, 5, name=\"User-Embedding_Tourism_input\")(user_input)\n",
        "  user_vec = Flatten(name=\"Flatten-Users_Tourism_embedding\")(user_embedding)\n",
        "\n",
        "  # concatenate features\n",
        "  conc = Concatenate()([tourism_vec, user_vec])\n",
        "\n",
        "  conc = Dropout(0.9)(conc)\n",
        "  # add fully-connected-layers\n",
        "  fc1 = Dense(num_neurons_1, activation = f'{activation_type}')(conc)\n",
        "  fc1 = Dropout(0.8)(fc1)\n",
        "  fc2 = Dense(num_neurons_1 - 50, activation = f'{activation_type}')(fc1)\n",
        "  fc2 = Dropout(0.8)(fc2)\n",
        "  fc3 = Dense(num_neurons_1 - 100, activation = f'{activation_type}')(fc2)\n",
        "  fc3 = Dropout(0.8)(fc3)\n",
        "  out = Dense(1, activation = f\"{activation_type}\")(fc3)\n",
        "\n",
        "  # Create model and compile it\n",
        "  model = Model([user_input, tourism_input], out)\n",
        "  model.compile(keras.optimizers.Adam(learning_rate=1e-4),\n",
        "                \"mean_absolute_error\",\n",
        "                metrics = [tf.keras.metrics.RootMeanSquaredError()]\n",
        "  )\n",
        "\n",
        "  return model"
      ],
      "metadata": {
        "id": "-n_J3dNmYuMd"
      },
      "execution_count": null,
      "outputs": []
    },
    {
      "cell_type": "code",
      "source": [
        "result_df = pd.DataFrame(\n",
        "    columns = [\"Neurons\", \"Activation\", \"RMSE\", \"MAE\"]\n",
        ")\n",
        "\n",
        "class ReportCallback(tf.keras.callbacks.Callback):\n",
        "  def __init__(self, neurons, activation):\n",
        "    super(ReportCallback, self).__init__()\n",
        "    self.neurons = neurons\n",
        "    self.activation = activation\n",
        "  def on_train_end(self, logs=None):\n",
        "    global result_df\n",
        "    print(f'Train RMSE: {logs[\"root_mean_squared_error\"]}')\n",
        "    print(f'Train MAE: {logs[\"loss\"]}')\n",
        "    print(f'Test RMSE: {logs[\"val_root_mean_squared_error\"]}')\n",
        "    print(f'Test MAE: {logs[\"val_loss\"]}')\n",
        "\n",
        "    result_df_new = pd.DataFrame(\n",
        "      {\n",
        "        \"Neurons\": self.neurons,\n",
        "        \"Activation\": self.activation,\n",
        "        \"RMSE\": [logs[\"val_root_mean_squared_error\"]],\n",
        "        \"MAE\": [logs[\"val_loss\"]],\n",
        "      }\n",
        "    )\n",
        "    result_df_2 = result_df.append(result_df_new, ignore_index = True)\n",
        "    result_df = result_df_2\n",
        "    print(result_df)\n",
        "\n",
        "models = []\n",
        "\n",
        "for num_neuron in num_neurons_1:\n",
        "  for activation_type in activation_types:\n",
        "    report_callback = ReportCallback(num_neuron, activation_type)\n",
        "\n",
        "    model = make_model(num_neuron, activation_type)\n",
        "    print(f\"NUmber of neurons: {num_neuron}, activation type: {activation_type}\")\n",
        "    history = model.fit(\n",
        "      [train_df[\"User_Id\"], train_df[\"Place_Id\"]],\n",
        "      train_df[\"Place_Ratings\"],\n",
        "      validation_data = ([test_df[\"User_Id\"], test_df[\"Place_Id\"]], test_df[\"Place_Ratings\"]),\n",
        "      epochs = 100,\n",
        "      verbose = 0,\n",
        "      batch_size = 64,\n",
        "      callbacks = [report_callback]\n",
        "    )\n",
        "\n",
        "    models.append(model)\n"
      ],
      "metadata": {
        "id": "T_7XkgEGY162",
        "colab": {
          "base_uri": "https://localhost:8080/"
        },
        "outputId": "7fcd822d-68b3-4d14-dbb8-f49402b768e4"
      },
      "execution_count": null,
      "outputs": [
        {
          "output_type": "stream",
          "name": "stdout",
          "text": [
            "NUmber of neurons: 150, activation type: relu\n",
            "Train RMSE: 1.55260169506073\n",
            "Train MAE: 1.3013691902160645\n",
            "Test RMSE: 1.3773967027664185\n",
            "Test MAE: 1.18203604221344\n",
            "  Neurons Activation      RMSE       MAE\n",
            "0     150       relu  1.377397  1.182036\n",
            "NUmber of neurons: 150, activation type: elu\n"
          ]
        },
        {
          "output_type": "stream",
          "name": "stderr",
          "text": [
            "<ipython-input-14-992736324f10>:25: FutureWarning: The frame.append method is deprecated and will be removed from pandas in a future version. Use pandas.concat instead.\n",
            "  result_df_2 = result_df.append(result_df_new, ignore_index = True)\n"
          ]
        },
        {
          "output_type": "stream",
          "name": "stdout",
          "text": [
            "Train RMSE: 1.5390461683273315\n",
            "Train MAE: 1.2973250150680542\n",
            "Test RMSE: 1.3550968170166016\n",
            "Test MAE: 1.1483596563339233\n",
            "  Neurons Activation      RMSE       MAE\n",
            "0     150       relu  1.377397  1.182036\n",
            "1     150        elu  1.355097  1.148360\n"
          ]
        },
        {
          "output_type": "stream",
          "name": "stderr",
          "text": [
            "<ipython-input-14-992736324f10>:25: FutureWarning: The frame.append method is deprecated and will be removed from pandas in a future version. Use pandas.concat instead.\n",
            "  result_df_2 = result_df.append(result_df_new, ignore_index = True)\n"
          ]
        },
        {
          "output_type": "stream",
          "name": "stdout",
          "text": [
            "NUmber of neurons: 150, activation type: selu\n",
            "Train RMSE: 1.5226552486419678\n",
            "Train MAE: 1.2883161306381226\n",
            "Test RMSE: 1.3545681238174438\n",
            "Test MAE: 1.1461999416351318\n",
            "  Neurons Activation      RMSE       MAE\n",
            "0     150       relu  1.377397  1.182036\n",
            "1     150        elu  1.355097  1.148360\n",
            "2     150       selu  1.354568  1.146200\n"
          ]
        },
        {
          "output_type": "stream",
          "name": "stderr",
          "text": [
            "<ipython-input-14-992736324f10>:25: FutureWarning: The frame.append method is deprecated and will be removed from pandas in a future version. Use pandas.concat instead.\n",
            "  result_df_2 = result_df.append(result_df_new, ignore_index = True)\n"
          ]
        },
        {
          "output_type": "stream",
          "name": "stdout",
          "text": [
            "NUmber of neurons: 200, activation type: relu\n",
            "Train RMSE: 1.504764437675476\n",
            "Train MAE: 1.2712876796722412\n",
            "Test RMSE: 1.3615566492080688\n",
            "Test MAE: 1.1594626903533936\n",
            "  Neurons Activation      RMSE       MAE\n",
            "0     150       relu  1.377397  1.182036\n",
            "1     150        elu  1.355097  1.148360\n",
            "2     150       selu  1.354568  1.146200\n",
            "3     200       relu  1.361557  1.159463\n",
            "NUmber of neurons: 200, activation type: elu\n"
          ]
        },
        {
          "output_type": "stream",
          "name": "stderr",
          "text": [
            "<ipython-input-14-992736324f10>:25: FutureWarning: The frame.append method is deprecated and will be removed from pandas in a future version. Use pandas.concat instead.\n",
            "  result_df_2 = result_df.append(result_df_new, ignore_index = True)\n"
          ]
        },
        {
          "output_type": "stream",
          "name": "stdout",
          "text": [
            "Train RMSE: 1.4841587543487549\n",
            "Train MAE: 1.2612637281417847\n",
            "Test RMSE: 1.3471137285232544\n",
            "Test MAE: 1.1269317865371704\n",
            "  Neurons Activation      RMSE       MAE\n",
            "0     150       relu  1.377397  1.182036\n",
            "1     150        elu  1.355097  1.148360\n",
            "2     150       selu  1.354568  1.146200\n",
            "3     200       relu  1.361557  1.159463\n",
            "4     200        elu  1.347114  1.126932\n"
          ]
        },
        {
          "output_type": "stream",
          "name": "stderr",
          "text": [
            "<ipython-input-14-992736324f10>:25: FutureWarning: The frame.append method is deprecated and will be removed from pandas in a future version. Use pandas.concat instead.\n",
            "  result_df_2 = result_df.append(result_df_new, ignore_index = True)\n"
          ]
        },
        {
          "output_type": "stream",
          "name": "stdout",
          "text": [
            "NUmber of neurons: 200, activation type: selu\n",
            "Train RMSE: 1.4725192785263062\n",
            "Train MAE: 1.2522852420806885\n",
            "Test RMSE: 1.3456233739852905\n",
            "Test MAE: 1.1229287385940552\n",
            "  Neurons Activation      RMSE       MAE\n",
            "0     150       relu  1.377397  1.182036\n",
            "1     150        elu  1.355097  1.148360\n",
            "2     150       selu  1.354568  1.146200\n",
            "3     200       relu  1.361557  1.159463\n",
            "4     200        elu  1.347114  1.126932\n",
            "5     200       selu  1.345623  1.122929\n",
            "NUmber of neurons: 250, activation type: relu\n"
          ]
        },
        {
          "output_type": "stream",
          "name": "stderr",
          "text": [
            "<ipython-input-14-992736324f10>:25: FutureWarning: The frame.append method is deprecated and will be removed from pandas in a future version. Use pandas.concat instead.\n",
            "  result_df_2 = result_df.append(result_df_new, ignore_index = True)\n"
          ]
        },
        {
          "output_type": "stream",
          "name": "stdout",
          "text": [
            "Train RMSE: 1.483789086341858\n",
            "Train MAE: 1.2592054605484009\n",
            "Test RMSE: 1.3666744232177734\n",
            "Test MAE: 1.1676890850067139\n",
            "  Neurons Activation      RMSE       MAE\n",
            "0     150       relu  1.377397  1.182036\n",
            "1     150        elu  1.355097  1.148360\n",
            "2     150       selu  1.354568  1.146200\n",
            "3     200       relu  1.361557  1.159463\n",
            "4     200        elu  1.347114  1.126932\n",
            "5     200       selu  1.345623  1.122929\n",
            "6     250       relu  1.366674  1.167689\n"
          ]
        },
        {
          "output_type": "stream",
          "name": "stderr",
          "text": [
            "<ipython-input-14-992736324f10>:25: FutureWarning: The frame.append method is deprecated and will be removed from pandas in a future version. Use pandas.concat instead.\n",
            "  result_df_2 = result_df.append(result_df_new, ignore_index = True)\n"
          ]
        },
        {
          "output_type": "stream",
          "name": "stdout",
          "text": [
            "NUmber of neurons: 250, activation type: elu\n",
            "Train RMSE: 1.465906023979187\n",
            "Train MAE: 1.2481486797332764\n",
            "Test RMSE: 1.3456306457519531\n",
            "Test MAE: 1.1250383853912354\n",
            "  Neurons Activation      RMSE       MAE\n",
            "0     150       relu  1.377397  1.182036\n",
            "1     150        elu  1.355097  1.148360\n",
            "2     150       selu  1.354568  1.146200\n",
            "3     200       relu  1.361557  1.159463\n",
            "4     200        elu  1.347114  1.126932\n",
            "5     200       selu  1.345623  1.122929\n",
            "6     250       relu  1.366674  1.167689\n",
            "7     250        elu  1.345631  1.125038\n",
            "NUmber of neurons: 250, activation type: selu\n"
          ]
        },
        {
          "output_type": "stream",
          "name": "stderr",
          "text": [
            "<ipython-input-14-992736324f10>:25: FutureWarning: The frame.append method is deprecated and will be removed from pandas in a future version. Use pandas.concat instead.\n",
            "  result_df_2 = result_df.append(result_df_new, ignore_index = True)\n"
          ]
        },
        {
          "output_type": "stream",
          "name": "stdout",
          "text": [
            "Train RMSE: 1.4539756774902344\n",
            "Train MAE: 1.2391148805618286\n",
            "Test RMSE: 1.3448294401168823\n",
            "Test MAE: 1.1268538236618042\n",
            "  Neurons Activation      RMSE       MAE\n",
            "0     150       relu  1.377397  1.182036\n",
            "1     150        elu  1.355097  1.148360\n",
            "2     150       selu  1.354568  1.146200\n",
            "3     200       relu  1.361557  1.159463\n",
            "4     200        elu  1.347114  1.126932\n",
            "5     200       selu  1.345623  1.122929\n",
            "6     250       relu  1.366674  1.167689\n",
            "7     250        elu  1.345631  1.125038\n",
            "8     250       selu  1.344829  1.126854\n"
          ]
        },
        {
          "output_type": "stream",
          "name": "stderr",
          "text": [
            "<ipython-input-14-992736324f10>:25: FutureWarning: The frame.append method is deprecated and will be removed from pandas in a future version. Use pandas.concat instead.\n",
            "  result_df_2 = result_df.append(result_df_new, ignore_index = True)\n"
          ]
        }
      ]
    },
    {
      "cell_type": "code",
      "source": [
        "print(result_df)\n",
        "result_df.to_csv(\"efficient_deep_learning_result.csv\", sep = \";\", decimal = \",\", index = False)"
      ],
      "metadata": {
        "colab": {
          "base_uri": "https://localhost:8080/"
        },
        "id": "I0pdSL0QYXTs",
        "outputId": "f4b8e68b-e860-4db1-a554-c41e25382d1f"
      },
      "execution_count": null,
      "outputs": [
        {
          "output_type": "stream",
          "name": "stdout",
          "text": [
            "  Neurons Activation      RMSE       MAE\n",
            "0     150       relu  1.377397  1.182036\n",
            "1     150        elu  1.355097  1.148360\n",
            "2     150       selu  1.354568  1.146200\n",
            "3     200       relu  1.361557  1.159463\n",
            "4     200        elu  1.347114  1.126932\n",
            "5     200       selu  1.345623  1.122929\n",
            "6     250       relu  1.366674  1.167689\n",
            "7     250        elu  1.345631  1.125038\n",
            "8     250       selu  1.344829  1.126854\n"
          ]
        }
      ]
    },
    {
      "cell_type": "code",
      "source": [
        "models[8].summary()"
      ],
      "metadata": {
        "colab": {
          "base_uri": "https://localhost:8080/"
        },
        "id": "J3QNBEoguMQN",
        "outputId": "28d0febb-57f2-4bd9-812b-210a8df6a6ce"
      },
      "execution_count": null,
      "outputs": [
        {
          "output_type": "stream",
          "name": "stdout",
          "text": [
            "Model: \"model_17\"\n",
            "__________________________________________________________________________________________________\n",
            " Layer (type)                   Output Shape         Param #     Connected to                     \n",
            "==================================================================================================\n",
            " Tourism-Input (InputLayer)     [(None, 1)]          0           []                               \n",
            "                                                                                                  \n",
            " User-Input (InputLayer)        [(None, 1)]          0           []                               \n",
            "                                                                                                  \n",
            " Tourism-Embedding (Embedding)  (None, 1, 5)         2190        ['Tourism-Input[0][0]']          \n",
            "                                                                                                  \n",
            " User-Embedding_Tourism_input (  (None, 1, 5)        1520        ['User-Input[0][0]']             \n",
            " Embedding)                                                                                       \n",
            "                                                                                                  \n",
            " Flatten-Tourism (Flatten)      (None, 5)            0           ['Tourism-Embedding[0][0]']      \n",
            "                                                                                                  \n",
            " Flatten-Users_Tourism_embeddin  (None, 5)           0           ['User-Embedding_Tourism_input[0]\n",
            " g (Flatten)                                                     [0]']                            \n",
            "                                                                                                  \n",
            " concatenate_17 (Concatenate)   (None, 10)           0           ['Flatten-Tourism[0][0]',        \n",
            "                                                                  'Flatten-Users_Tourism_embedding\n",
            "                                                                 [0][0]']                         \n",
            "                                                                                                  \n",
            " dropout_68 (Dropout)           (None, 10)           0           ['concatenate_17[0][0]']         \n",
            "                                                                                                  \n",
            " dense_68 (Dense)               (None, 250)          2750        ['dropout_68[0][0]']             \n",
            "                                                                                                  \n",
            " dropout_69 (Dropout)           (None, 250)          0           ['dense_68[0][0]']               \n",
            "                                                                                                  \n",
            " dense_69 (Dense)               (None, 200)          50200       ['dropout_69[0][0]']             \n",
            "                                                                                                  \n",
            " dropout_70 (Dropout)           (None, 200)          0           ['dense_69[0][0]']               \n",
            "                                                                                                  \n",
            " dense_70 (Dense)               (None, 150)          30150       ['dropout_70[0][0]']             \n",
            "                                                                                                  \n",
            " dropout_71 (Dropout)           (None, 150)          0           ['dense_70[0][0]']               \n",
            "                                                                                                  \n",
            " dense_71 (Dense)               (None, 1)            151         ['dropout_71[0][0]']             \n",
            "                                                                                                  \n",
            "==================================================================================================\n",
            "Total params: 86,961\n",
            "Trainable params: 86,961\n",
            "Non-trainable params: 0\n",
            "__________________________________________________________________________________________________\n"
          ]
        }
      ]
    },
    {
      "cell_type": "code",
      "source": [
        "def plot_data(metric1, metric2, title):\n",
        "  plt.plot(history.history[metric1])\n",
        "  plt.plot(history.history[metric2])\n",
        "  plt.title(title)\n",
        "  plt.ylabel(\"Value\")\n",
        "  plt.xlabel(\"Epochs\")\n",
        "  plt.legend([metric1, metric2], loc=\"upper right\")\n",
        "  plt.show()\n",
        "\n",
        "metrics = [[\"root_mean_squared_error\", \"val_root_mean_squared_error\", \"RMSE Train Loss\"], [\"loss\", \"val_loss\", \"MAE Validation Plot\"]]\n",
        "\n",
        "for [metric1, metric2, title] in metrics:\n",
        "  plot_data(metric1, metric2, title)"
      ],
      "metadata": {
        "id": "kPISc5TIY265",
        "colab": {
          "base_uri": "https://localhost:8080/",
          "height": 927
        },
        "outputId": "d3dcdb0d-aadd-4394-988f-02e9c0a92e3c"
      },
      "execution_count": null,
      "outputs": [
        {
          "output_type": "display_data",
          "data": {
            "text/plain": [
              "<Figure size 640x480 with 1 Axes>"
            ],
            "image/png": "[encoded data removed]"
          },
          "metadata": {}
        },
        {
          "output_type": "display_data",
          "data": {
            "text/plain": [
              "<Figure size 640x480 with 1 Axes>"
            ],
            "image/png": "[encoded data removed]"
          },
          "metadata": {}
        }
      ]
    },
    {
      "cell_type": "code",
      "source": [
        "tf.keras.saving.save_model(\n",
        "    models[8], \"drive/MyDrive/Models/best_model_efficient_deep_learning_2\", overwrite=True,\n",
        ")"
      ],
      "metadata": {
        "colab": {
          "base_uri": "https://localhost:8080/"
        },
        "id": "8VdiXDQLtSx7",
        "outputId": "01304b6b-ccbc-4df7-b965-67f04aa05767"
      },
      "execution_count": null,
      "outputs": [
        {
          "output_type": "stream",
          "name": "stderr",
          "text": [
            "WARNING:absl:Function `_wrapped_model` contains input name(s) User-Input, Tourism-Input with unsupported characters which will be renamed to user_input, tourism_input in the SavedModel.\n"
          ]
        }
      ]
    },
    {
      "cell_type": "code",
      "source": [
        "loaded_model = tf.keras.saving.load_model(\"drive/MyDrive/Models/best_model_efficient_deep_learning_2\")\n",
        "loaded_model.summary()"
      ],
      "metadata": {
        "colab": {
          "base_uri": "https://localhost:8080/"
        },
        "id": "JrdUknFrzEMS",
        "outputId": "b4ddc2d4-43da-43dd-9b08-54e84345b8de"
      },
      "execution_count": null,
      "outputs": [
        {
          "output_type": "stream",
          "name": "stdout",
          "text": [
            "Model: \"model_17\"\n",
            "__________________________________________________________________________________________________\n",
            " Layer (type)                   Output Shape         Param #     Connected to                     \n",
            "==================================================================================================\n",
            " Tourism-Input (InputLayer)     [(None, 1)]          0           []                               \n",
            "                                                                                                  \n",
            " User-Input (InputLayer)        [(None, 1)]          0           []                               \n",
            "                                                                                                  \n",
            " Tourism-Embedding (Embedding)  (None, 1, 5)         2190        ['Tourism-Input[0][0]']          \n",
            "                                                                                                  \n",
            " User-Embedding_Tourism_input (  (None, 1, 5)        1520        ['User-Input[0][0]']             \n",
            " Embedding)                                                                                       \n",
            "                                                                                                  \n",
            " Flatten-Tourism (Flatten)      (None, 5)            0           ['Tourism-Embedding[0][0]']      \n",
            "                                                                                                  \n",
            " Flatten-Users_Tourism_embeddin  (None, 5)           0           ['User-Embedding_Tourism_input[0]\n",
            " g (Flatten)                                                     [0]']                            \n",
            "                                                                                                  \n",
            " concatenate_17 (Concatenate)   (None, 10)           0           ['Flatten-Tourism[0][0]',        \n",
            "                                                                  'Flatten-Users_Tourism_embedding\n",
            "                                                                 [0][0]']                         \n",
            "                                                                                                  \n",
            " dropout_68 (Dropout)           (None, 10)           0           ['concatenate_17[0][0]']         \n",
            "                                                                                                  \n",
            " dense_68 (Dense)               (None, 250)          2750        ['dropout_68[0][0]']             \n",
            "                                                                                                  \n",
            " dropout_69 (Dropout)           (None, 250)          0           ['dense_68[0][0]']               \n",
            "                                                                                                  \n",
            " dense_69 (Dense)               (None, 200)          50200       ['dropout_69[0][0]']             \n",
            "                                                                                                  \n",
            " dropout_70 (Dropout)           (None, 200)          0           ['dense_69[0][0]']               \n",
            "                                                                                                  \n",
            " dense_70 (Dense)               (None, 150)          30150       ['dropout_70[0][0]']             \n",
            "                                                                                                  \n",
            " dropout_71 (Dropout)           (None, 150)          0           ['dense_70[0][0]']               \n",
            "                                                                                                  \n",
            " dense_71 (Dense)               (None, 1)            151         ['dropout_71[0][0]']             \n",
            "                                                                                                  \n",
            "==================================================================================================\n",
            "Total params: 86,961\n",
            "Trainable params: 86,961\n",
            "Non-trainable params: 0\n",
            "__________________________________________________________________________________________________\n"
          ]
        }
      ]
    },
    {
      "cell_type": "code",
      "source": [
        "# Creating dataset for making recommendations for the first user\n",
        "tourism_data = np.array(list(set(test_df[\"Place_Id\"])))\n",
        "tourism_data[:10]\n",
        "\n",
        "id_user = 1\n",
        "user = np.array([id_user for i in range(len(tourism_data))])\n",
        "user[:10]\n",
        "\n",
        "predictions = model.predict([user, tourism_data])\n",
        "\n",
        "predictions = np.array([a[0] for a in predictions])\n",
        "\n",
        "recommended_tourism_ids = (-predictions).argsort()[:10]\n",
        "\n",
        "recommended_tourism_ids"
      ],
      "metadata": {
        "id": "YKBgEOBCZPY8"
      },
      "execution_count": null,
      "outputs": []
    },
    {
      "cell_type": "code",
      "source": [
        "tourism_df[tourism_df[\"Place_Id\"].isin(recommended_tourism_ids)]"
      ],
      "metadata": {
        "id": "WtIERA1czQUs"
      },
      "execution_count": null,
      "outputs": []
    }
  ]
}